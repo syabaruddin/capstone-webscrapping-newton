{
 "cells": [
  {
   "cell_type": "markdown",
   "metadata": {},
   "source": [
    "# Capstone Webscrapping Project\n",
    "\n",
    "\n",
    "\n",
    "We want to get historical exchange rates between the Indonesian Rupiah (IDR) and the US Dollar (USD) between 9/4/2020 and 3/3/2021 from website exchange-rates.org\n",
    "\n",
    "## Requesting the Data\n",
    "\n",
    "Let's begin with requesting the web from the site with `get` method."
   ]
  },
  {
   "cell_type": "code",
   "execution_count": 2,
   "metadata": {
    "ExecuteTime": {
     "end_time": "2021-03-05T04:13:54.598010Z",
     "start_time": "2021-03-05T04:13:54.135401Z"
    }
   },
   "outputs": [],
   "source": [
    "import requests\n",
    "\n",
    "url_get = requests.get('https://www.exchange-rates.org/history/IDR/USD/T')"
   ]
  },
  {
   "cell_type": "markdown",
   "metadata": {},
   "source": [
    "To visualize what exactly you get from the `request.get`, we can use .content so ee what we exactly get, in here i slice it so it won't make our screen full of the html we get from the page. You can delete the slicing if you want to see what we fully get."
   ]
  },
  {
   "cell_type": "code",
   "execution_count": 3,
   "metadata": {
    "ExecuteTime": {
     "end_time": "2021-03-05T04:13:54.639448Z",
     "start_time": "2021-03-05T04:13:54.598010Z"
    }
   },
   "outputs": [
    {
     "data": {
      "text/plain": [
       "b'\\n<!DOCTYPE html>\\r\\n<!--[if lt IE 9]>\\r\\n    <html class=\"no-js ie8 oldie\" lang=\\'en\\' xml:lang=\\'en\\'>\\r\\n<![endif]-->\\r\\n<!--[if gt IE 8]><!--> <html class=\"no-js\" lang=\\'en\\' xml:lang=\\'en\\'> <!--<![endif]-->\\r\\n<head><title>Indonesian Rupiah Exchange Rate - US Dollar - Historical Exchange Rates</title>\\n<meta http-equiv=\"X-UA-Compatible\" content=\"IE=edge\">\\n<meta content=\"C#\" name=\"CODE_LANGUAGE\" />\\n<meta content=\"JavaScript\" name=\"vs_defaultClientScript\" />\\n<meta content=\"http://schemas.microsoft.com/intellisense/ie5\" name=\"vs_targetSchema\" />\\n<meta name=\"viewport\" content=\"width=device-width, initial-scale=1, maximum-scale=5\">\\n<meta http-equiv=\"Content-Type\" content=\"text/html; charset=utf-8\" />\\n\\n<meta name=\"mapping\" content=\"AP\" />\\n<base href=\"https://www.exchange-rates.org/\" />'"
      ]
     },
     "execution_count": 3,
     "metadata": {},
     "output_type": "execute_result"
    }
   ],
   "source": [
    "url_get.content[1:777]"
   ]
  },
  {
   "cell_type": "markdown",
   "metadata": {},
   "source": [
    "As we can see we get a very unstructured and complex html, which actually contains the codes needed to show the webpages on your web browser. But we as human still confused what and where we can use that piece of code, so here where we use the beautifulsoup. Beautiful soup class will result a beautifulsoup object. Beautiful Soup transforms a complex HTML document into a complex tree of Python objects. \n",
    "\n",
    "Let's make Beautiful soup object and feel free to explore the object here."
   ]
  },
  {
   "cell_type": "code",
   "execution_count": 4,
   "metadata": {
    "ExecuteTime": {
     "end_time": "2021-03-05T04:13:54.863488Z",
     "start_time": "2021-03-05T04:13:54.639448Z"
    }
   },
   "outputs": [
    {
     "name": "stdout",
     "output_type": "stream",
     "text": [
      "<class 'bs4.BeautifulSoup'>\n"
     ]
    }
   ],
   "source": [
    "from bs4 import BeautifulSoup \n",
    "\n",
    "soup = BeautifulSoup(url_get.content,\"html.parser\")\n",
    "print(type(soup))"
   ]
  },
  {
   "cell_type": "markdown",
   "metadata": {},
   "source": [
    "## Finding the right key to scrap the data & Extracting the right information"
   ]
  },
  {
   "cell_type": "markdown",
   "metadata": {},
   "source": [
    "Find the key and put the key into the `.find()` Put all the exploring the right key at this cell. After we inspect the data table in the website, we found that the key is 'table' and the class is 'table table-striped table-hover table-hover-solid-row table-simple history-data'"
   ]
  },
  {
   "cell_type": "code",
   "execution_count": 5,
   "metadata": {
    "ExecuteTime": {
     "end_time": "2021-03-05T04:13:54.902886Z",
     "start_time": "2021-03-05T04:13:54.864496Z"
    }
   },
   "outputs": [
    {
     "name": "stdout",
     "output_type": "stream",
     "text": [
      "table class=\"table table-striped table-hover table-hover-solid-row table-simple history-data\">\n",
      " <tbody>\n",
      "  <tr>\n",
      "   <td>\n",
      "    3/4/2021\n",
      "   </td>\n",
      "   <td>\n",
      "    Thursday\n",
      "   </td>\n",
      "   <td>\n",
      "    <a href=\"/Rate/USD/IDR/3-4-2021\">\n",
      "     14,261.85426\n",
      "    </a>\n",
      "    IDR\n",
      "   </td>\n",
      "   <td class=\"text-narrow-screen-hidden\">\n",
      "    <a href=\"/Rate/USD/IDR/3-4-2021\">\n",
      "     USD IDR rate for 3/4/2021\n",
      "    </a>\n",
      "   </td>\n",
      "  </tr>\n",
      "  <tr>\n",
      "   <td>\n",
      "    3/3/2021\n",
      "   </td>\n",
      "   <td>\n",
      "    Wednesday\n",
      "   </td>\n",
      "   <td>\n",
      "    <a href=\"/Rate/USD/ID\n"
     ]
    }
   ],
   "source": [
    "table = soup.find('table',attrs={'class':'table table-striped table-hover table-hover-solid-row table-simple history-data'})\n",
    "print(table.prettify()[1:500])"
   ]
  },
  {
   "cell_type": "code",
   "execution_count": 6,
   "metadata": {
    "ExecuteTime": {
     "end_time": "2021-03-05T04:13:54.942859Z",
     "start_time": "2021-03-05T04:13:54.902886Z"
    }
   },
   "outputs": [
    {
     "data": {
      "text/plain": [
       "[<tr><td>3/4/2021</td><td>Thursday</td><td><a href=\"/Rate/USD/IDR/3-4-2021\">14,261.85426</a> IDR</td><td class=\"text-narrow-screen-hidden\"><a href=\"/Rate/USD/IDR/3-4-2021\">USD IDR rate for 3/4/2021</a></td></tr>,\n",
       " <tr><td>3/3/2021</td><td>Wednesday</td><td><a href=\"/Rate/USD/IDR/3-3-2021\">14,257.29443</a> IDR</td><td class=\"text-narrow-screen-hidden\"><a href=\"/Rate/USD/IDR/3-3-2021\">USD IDR rate for 3/3/2021</a></td></tr>,\n",
       " <tr><td>3/2/2021</td><td>Tuesday</td><td><a href=\"/Rate/USD/IDR/3-2-2021\">14,256.28041</a> IDR</td><td class=\"text-narrow-screen-hidden\"><a href=\"/Rate/USD/IDR/3-2-2021\">USD IDR rate for 3/2/2021</a></td></tr>,\n",
       " <tr><td>3/1/2021</td><td>Monday</td><td><a href=\"/Rate/USD/IDR/3-1-2021\">14,248.60576</a> IDR</td><td class=\"text-narrow-screen-hidden\"><a href=\"/Rate/USD/IDR/3-1-2021\">USD IDR rate for 3/1/2021</a></td></tr>,\n",
       " <tr><td>2/26/2021</td><td>Friday</td><td><a href=\"/Rate/USD/IDR/2-26-2021\">14,300.27815</a> IDR</td><td class=\"text-narrow-screen-hidden\"><a href=\"/Rate/USD/IDR/2-26-2021\">USD IDR rate for 2/26/2021</a></td></tr>,\n",
       " <tr><td>2/25/2021</td><td>Thursday</td><td><a href=\"/Rate/USD/IDR/2-25-2021\">14,139.73096</a> IDR</td><td class=\"text-narrow-screen-hidden\"><a href=\"/Rate/USD/IDR/2-25-2021\">USD IDR rate for 2/25/2021</a></td></tr>,\n",
       " <tr><td>2/24/2021</td><td>Wednesday</td><td><a href=\"/Rate/USD/IDR/2-24-2021\">14,083.03673</a> IDR</td><td class=\"text-narrow-screen-hidden\"><a href=\"/Rate/USD/IDR/2-24-2021\">USD IDR rate for 2/24/2021</a></td></tr>,\n",
       " <tr><td>2/23/2021</td><td>Tuesday</td><td><a href=\"/Rate/USD/IDR/2-23-2021\">14,092.64503</a> IDR</td><td class=\"text-narrow-screen-hidden\"><a href=\"/Rate/USD/IDR/2-23-2021\">USD IDR rate for 2/23/2021</a></td></tr>,\n",
       " <tr><td>2/22/2021</td><td>Monday</td><td><a href=\"/Rate/USD/IDR/2-22-2021\">14,118.07274</a> IDR</td><td class=\"text-narrow-screen-hidden\"><a href=\"/Rate/USD/IDR/2-22-2021\">USD IDR rate for 2/22/2021</a></td></tr>,\n",
       " <tr><td>2/19/2021</td><td>Friday</td><td><a href=\"/Rate/USD/IDR/2-19-2021\">14,066.79375</a> IDR</td><td class=\"text-narrow-screen-hidden\"><a href=\"/Rate/USD/IDR/2-19-2021\">USD IDR rate for 2/19/2021</a></td></tr>,\n",
       " <tr><td>2/18/2021</td><td>Thursday</td><td><a href=\"/Rate/USD/IDR/2-18-2021\">14,013.51318</a> IDR</td><td class=\"text-narrow-screen-hidden\"><a href=\"/Rate/USD/IDR/2-18-2021\">USD IDR rate for 2/18/2021</a></td></tr>,\n",
       " <tr><td>2/17/2021</td><td>Wednesday</td><td><a href=\"/Rate/USD/IDR/2-17-2021\">14,015.16095</a> IDR</td><td class=\"text-narrow-screen-hidden\"><a href=\"/Rate/USD/IDR/2-17-2021\">USD IDR rate for 2/17/2021</a></td></tr>,\n",
       " <tr class=\"inline-grid-ad-row first\"><td class=\"inline-grid-ad-cell first\" colspan=\"4\"><div class=\"google-wrap\">\n",
       " <style type=\"text/css\">\n",
       "     @media (min-width:770px)  { .inline-grid-ad-row { display: none; } }\n",
       "     table tr.inline-grid-ad-row > td:first-child,\n",
       "     table tr.inline-grid-ad-row:hover > td:first-child { background-color: #f9f9f9 !important; }\n",
       "   </style>\n",
       " <div class=\"_ap_apex_ad\" id=\"1b89b15f-48e9-4d38-a83b-795779503b7e\">\n",
       " <script>\n",
       "             if (window.innerWidth < 770) {\n",
       " \t\tvar adpushup = window.adpushup  = window.adpushup || {que:[]};\n",
       " \t\tadpushup.que.push(function() {\n",
       " \t\t\tadpushup.triggerAd(\"1b89b15f-48e9-4d38-a83b-795779503b7e\");\n",
       " \t\t});\n",
       "             }\n",
       " \t</script>\n",
       " </div>\n",
       " </div>\n",
       " </td></tr>,\n",
       " <tr><td>2/16/2021</td><td>Tuesday</td><td><a href=\"/Rate/USD/IDR/2-16-2021\">13,935.96629</a> IDR</td><td class=\"text-narrow-screen-hidden\"><a href=\"/Rate/USD/IDR/2-16-2021\">USD IDR rate for 2/16/2021</a></td></tr>,\n",
       " <tr><td>2/15/2021</td><td>Monday</td><td><a href=\"/Rate/USD/IDR/2-15-2021\">13,918.18725</a> IDR</td><td class=\"text-narrow-screen-hidden\"><a href=\"/Rate/USD/IDR/2-15-2021\">USD IDR rate for 2/15/2021</a></td></tr>,\n",
       " <tr><td>2/12/2021</td><td>Friday</td><td><a href=\"/Rate/USD/IDR/2-12-2021\">13,988.54710</a> IDR</td><td class=\"text-narrow-screen-hidden\"><a href=\"/Rate/USD/IDR/2-12-2021\">USD IDR rate for 2/12/2021</a></td></tr>,\n",
       " <tr><td>2/11/2021</td><td>Thursday</td><td><a href=\"/Rate/USD/IDR/2-11-2021\">13,982.27900</a> IDR</td><td class=\"text-narrow-screen-hidden\"><a href=\"/Rate/USD/IDR/2-11-2021\">USD IDR rate for 2/11/2021</a></td></tr>,\n",
       " <tr><td>2/10/2021</td><td>Wednesday</td><td><a href=\"/Rate/USD/IDR/2-10-2021\">13,994.09212</a> IDR</td><td class=\"text-narrow-screen-hidden\"><a href=\"/Rate/USD/IDR/2-10-2021\">USD IDR rate for 2/10/2021</a></td></tr>,\n",
       " <tr><td>2/9/2021</td><td>Tuesday</td><td><a href=\"/Rate/USD/IDR/2-9-2021\">13,920.52018</a> IDR</td><td class=\"text-narrow-screen-hidden\"><a href=\"/Rate/USD/IDR/2-9-2021\">USD IDR rate for 2/9/2021</a></td></tr>,\n",
       " <tr><td>2/8/2021</td><td>Monday</td><td><a href=\"/Rate/USD/IDR/2-8-2021\">14,007.25257</a> IDR</td><td class=\"text-narrow-screen-hidden\"><a href=\"/Rate/USD/IDR/2-8-2021\">USD IDR rate for 2/8/2021</a></td></tr>,\n",
       " <tr><td>2/5/2021</td><td>Friday</td><td><a href=\"/Rate/USD/IDR/2-5-2021\">14,008.99630</a> IDR</td><td class=\"text-narrow-screen-hidden\"><a href=\"/Rate/USD/IDR/2-5-2021\">USD IDR rate for 2/5/2021</a></td></tr>,\n",
       " <tr><td>2/4/2021</td><td>Thursday</td><td><a href=\"/Rate/USD/IDR/2-4-2021\">14,020.87878</a> IDR</td><td class=\"text-narrow-screen-hidden\"><a href=\"/Rate/USD/IDR/2-4-2021\">USD IDR rate for 2/4/2021</a></td></tr>,\n",
       " <tr><td>2/3/2021</td><td>Wednesday</td><td><a href=\"/Rate/USD/IDR/2-3-2021\">13,997.60682</a> IDR</td><td class=\"text-narrow-screen-hidden\"><a href=\"/Rate/USD/IDR/2-3-2021\">USD IDR rate for 2/3/2021</a></td></tr>,\n",
       " <tr><td>2/2/2021</td><td>Tuesday</td><td><a href=\"/Rate/USD/IDR/2-2-2021\">14,004.60175</a> IDR</td><td class=\"text-narrow-screen-hidden\"><a href=\"/Rate/USD/IDR/2-2-2021\">USD IDR rate for 2/2/2021</a></td></tr>,\n",
       " <tr><td>2/1/2021</td><td>Monday</td><td><a href=\"/Rate/USD/IDR/2-1-2021\">14,025.27450</a> IDR</td><td class=\"text-narrow-screen-hidden\"><a href=\"/Rate/USD/IDR/2-1-2021\">USD IDR rate for 2/1/2021</a></td></tr>,\n",
       " <tr><td>1/29/2021</td><td>Friday</td><td><a href=\"/Rate/USD/IDR/1-29-2021\">14,027.32457</a> IDR</td><td class=\"text-narrow-screen-hidden\"><a href=\"/Rate/USD/IDR/1-29-2021\">USD IDR rate for 1/29/2021</a></td></tr>,\n",
       " <tr><td>1/28/2021</td><td>Thursday</td><td><a href=\"/Rate/USD/IDR/1-28-2021\">14,048.06146</a> IDR</td><td class=\"text-narrow-screen-hidden\"><a href=\"/Rate/USD/IDR/1-28-2021\">USD IDR rate for 1/28/2021</a></td></tr>,\n",
       " <tr><td>1/27/2021</td><td>Wednesday</td><td><a href=\"/Rate/USD/IDR/1-27-2021\">14,048.72649</a> IDR</td><td class=\"text-narrow-screen-hidden\"><a href=\"/Rate/USD/IDR/1-27-2021\">USD IDR rate for 1/27/2021</a></td></tr>,\n",
       " <tr><td>1/26/2021</td><td>Tuesday</td><td><a href=\"/Rate/USD/IDR/1-26-2021\">14,062.91108</a> IDR</td><td class=\"text-narrow-screen-hidden\"><a href=\"/Rate/USD/IDR/1-26-2021\">USD IDR rate for 1/26/2021</a></td></tr>,\n",
       " <tr><td>1/25/2021</td><td>Monday</td><td><a href=\"/Rate/USD/IDR/1-25-2021\">14,021.11609</a> IDR</td><td class=\"text-narrow-screen-hidden\"><a href=\"/Rate/USD/IDR/1-25-2021\">USD IDR rate for 1/25/2021</a></td></tr>,\n",
       " <tr><td>1/22/2021</td><td>Friday</td><td><a href=\"/Rate/USD/IDR/1-22-2021\">14,025.60268</a> IDR</td><td class=\"text-narrow-screen-hidden\"><a href=\"/Rate/USD/IDR/1-22-2021\">USD IDR rate for 1/22/2021</a></td></tr>,\n",
       " <tr><td>1/21/2021</td><td>Thursday</td><td><a href=\"/Rate/USD/IDR/1-21-2021\">13,964.91920</a> IDR</td><td class=\"text-narrow-screen-hidden\"><a href=\"/Rate/USD/IDR/1-21-2021\">USD IDR rate for 1/21/2021</a></td></tr>,\n",
       " <tr><td>1/20/2021</td><td>Wednesday</td><td><a href=\"/Rate/USD/IDR/1-20-2021\">14,021.43046</a> IDR</td><td class=\"text-narrow-screen-hidden\"><a href=\"/Rate/USD/IDR/1-20-2021\">USD IDR rate for 1/20/2021</a></td></tr>,\n",
       " <tr><td>1/19/2021</td><td>Tuesday</td><td><a href=\"/Rate/USD/IDR/1-19-2021\">14,063.60877</a> IDR</td><td class=\"text-narrow-screen-hidden\"><a href=\"/Rate/USD/IDR/1-19-2021\">USD IDR rate for 1/19/2021</a></td></tr>,\n",
       " <tr><td>1/18/2021</td><td>Monday</td><td><a href=\"/Rate/USD/IDR/1-18-2021\">14,055.43768</a> IDR</td><td class=\"text-narrow-screen-hidden\"><a href=\"/Rate/USD/IDR/1-18-2021\">USD IDR rate for 1/18/2021</a></td></tr>,\n",
       " <tr><td>1/15/2021</td><td>Friday</td><td><a href=\"/Rate/USD/IDR/1-15-2021\">14,153.46654</a> IDR</td><td class=\"text-narrow-screen-hidden\"><a href=\"/Rate/USD/IDR/1-15-2021\">USD IDR rate for 1/15/2021</a></td></tr>,\n",
       " <tr class=\"inline-grid-ad-row second\"><td class=\"inline-grid-ad-cell second\" colspan=\"4\"><div class=\"google-wrap\">\n",
       " <style type=\"text/css\">\n",
       "     @media (min-width:770px)  { .inline-grid-ad-row { display: none; } }\n",
       "     table tr.inline-grid-ad-row > td:first-child,\n",
       "     table tr.inline-grid-ad-row:hover > td:first-child { background-color: #f9f9f9 !important; }\n",
       "   </style>\n",
       " <div class=\"_ap_apex_ad\" id=\"fb283901-892c-4c7c-83c8-80ed9db9ade1\">\n",
       " <script>\n",
       "             if (window.innerWidth < 770) {\n",
       " \t\tvar adpushup = window.adpushup  = window.adpushup || {que:[]};\n",
       " \t\tadpushup.que.push(function() {\n",
       " \t\t\tadpushup.triggerAd(\"fb283901-892c-4c7c-83c8-80ed9db9ade1\");\n",
       " \t\t});\n",
       "             }\n",
       " \t</script>\n",
       " </div>\n",
       " </div>\n",
       " </td></tr>,\n",
       " <tr><td>1/14/2021</td><td>Thursday</td><td><a href=\"/Rate/USD/IDR/1-14-2021\">14,070.58746</a> IDR</td><td class=\"text-narrow-screen-hidden\"><a href=\"/Rate/USD/IDR/1-14-2021\">USD IDR rate for 1/14/2021</a></td></tr>,\n",
       " <tr><td>1/13/2021</td><td>Wednesday</td><td><a href=\"/Rate/USD/IDR/1-13-2021\">14,125.90174</a> IDR</td><td class=\"text-narrow-screen-hidden\"><a href=\"/Rate/USD/IDR/1-13-2021\">USD IDR rate for 1/13/2021</a></td></tr>,\n",
       " <tr><td>1/12/2021</td><td>Tuesday</td><td><a href=\"/Rate/USD/IDR/1-12-2021\">14,074.81444</a> IDR</td><td class=\"text-narrow-screen-hidden\"><a href=\"/Rate/USD/IDR/1-12-2021\">USD IDR rate for 1/12/2021</a></td></tr>,\n",
       " <tr><td>1/11/2021</td><td>Monday</td><td><a href=\"/Rate/USD/IDR/1-11-2021\">14,137.24151</a> IDR</td><td class=\"text-narrow-screen-hidden\"><a href=\"/Rate/USD/IDR/1-11-2021\">USD IDR rate for 1/11/2021</a></td></tr>,\n",
       " <tr><td>1/8/2021</td><td>Friday</td><td><a href=\"/Rate/USD/IDR/1-8-2021\">13,991.16348</a> IDR</td><td class=\"text-narrow-screen-hidden\"><a href=\"/Rate/USD/IDR/1-8-2021\">USD IDR rate for 1/8/2021</a></td></tr>,\n",
       " <tr><td>1/7/2021</td><td>Thursday</td><td><a href=\"/Rate/USD/IDR/1-7-2021\">13,905.64377</a> IDR</td><td class=\"text-narrow-screen-hidden\"><a href=\"/Rate/USD/IDR/1-7-2021\">USD IDR rate for 1/7/2021</a></td></tr>,\n",
       " <tr><td>1/6/2021</td><td>Wednesday</td><td><a href=\"/Rate/USD/IDR/1-6-2021\">13,861.51463</a> IDR</td><td class=\"text-narrow-screen-hidden\"><a href=\"/Rate/USD/IDR/1-6-2021\">USD IDR rate for 1/6/2021</a></td></tr>,\n",
       " <tr><td>1/5/2021</td><td>Tuesday</td><td><a href=\"/Rate/USD/IDR/1-5-2021\">13,906.05686</a> IDR</td><td class=\"text-narrow-screen-hidden\"><a href=\"/Rate/USD/IDR/1-5-2021\">USD IDR rate for 1/5/2021</a></td></tr>,\n",
       " <tr><td>1/4/2021</td><td>Monday</td><td><a href=\"/Rate/USD/IDR/1-4-2021\">14,015.86887</a> IDR</td><td class=\"text-narrow-screen-hidden\"><a href=\"/Rate/USD/IDR/1-4-2021\">USD IDR rate for 1/4/2021</a></td></tr>,\n",
       " <tr><td>1/1/2021</td><td>Friday</td><td><a href=\"/Rate/USD/IDR/1-1-2021\">14,213.67526</a> IDR</td><td class=\"text-narrow-screen-hidden\"><a href=\"/Rate/USD/IDR/1-1-2021\">USD IDR rate for 1/1/2021</a></td></tr>,\n",
       " <tr><td>12/31/2020</td><td>Thursday</td><td><a href=\"/Rate/USD/IDR/12-31-2020\">14,120.57461</a> IDR</td><td class=\"text-narrow-screen-hidden\"><a href=\"/Rate/USD/IDR/12-31-2020\">USD IDR rate for 12/31/2020</a></td></tr>,\n",
       " <tr><td>12/30/2020</td><td>Wednesday</td><td><a href=\"/Rate/USD/IDR/12-30-2020\">14,020.01350</a> IDR</td><td class=\"text-narrow-screen-hidden\"><a href=\"/Rate/USD/IDR/12-30-2020\">USD IDR rate for 12/30/2020</a></td></tr>,\n",
       " <tr><td>12/29/2020</td><td>Tuesday</td><td><a href=\"/Rate/USD/IDR/12-29-2020\">14,108.18177</a> IDR</td><td class=\"text-narrow-screen-hidden\"><a href=\"/Rate/USD/IDR/12-29-2020\">USD IDR rate for 12/29/2020</a></td></tr>,\n",
       " <tr><td>12/28/2020</td><td>Monday</td><td><a href=\"/Rate/USD/IDR/12-28-2020\">14,139.81753</a> IDR</td><td class=\"text-narrow-screen-hidden\"><a href=\"/Rate/USD/IDR/12-28-2020\">USD IDR rate for 12/28/2020</a></td></tr>,\n",
       " <tr><td>12/25/2020</td><td>Friday</td><td><a href=\"/Rate/USD/IDR/12-25-2020\">14,211.65343</a> IDR</td><td class=\"text-narrow-screen-hidden\"><a href=\"/Rate/USD/IDR/12-25-2020\">USD IDR rate for 12/25/2020</a></td></tr>,\n",
       " <tr><td>12/24/2020</td><td>Thursday</td><td><a href=\"/Rate/USD/IDR/12-24-2020\">14,188.41293</a> IDR</td><td class=\"text-narrow-screen-hidden\"><a href=\"/Rate/USD/IDR/12-24-2020\">USD IDR rate for 12/24/2020</a></td></tr>,\n",
       " <tr><td>12/23/2020</td><td>Wednesday</td><td><a href=\"/Rate/USD/IDR/12-23-2020\">14,183.64082</a> IDR</td><td class=\"text-narrow-screen-hidden\"><a href=\"/Rate/USD/IDR/12-23-2020\">USD IDR rate for 12/23/2020</a></td></tr>,\n",
       " <tr><td>12/22/2020</td><td>Tuesday</td><td><a href=\"/Rate/USD/IDR/12-22-2020\">14,164.98134</a> IDR</td><td class=\"text-narrow-screen-hidden\"><a href=\"/Rate/USD/IDR/12-22-2020\">USD IDR rate for 12/22/2020</a></td></tr>,\n",
       " <tr><td>12/21/2020</td><td>Monday</td><td><a href=\"/Rate/USD/IDR/12-21-2020\">14,124.20148</a> IDR</td><td class=\"text-narrow-screen-hidden\"><a href=\"/Rate/USD/IDR/12-21-2020\">USD IDR rate for 12/21/2020</a></td></tr>,\n",
       " <tr><td>12/18/2020</td><td>Friday</td><td><a href=\"/Rate/USD/IDR/12-18-2020\">14,101.05758</a> IDR</td><td class=\"text-narrow-screen-hidden\"><a href=\"/Rate/USD/IDR/12-18-2020\">USD IDR rate for 12/18/2020</a></td></tr>,\n",
       " <tr><td>12/17/2020</td><td>Thursday</td><td><a href=\"/Rate/USD/IDR/12-17-2020\">14,101.72807</a> IDR</td><td class=\"text-narrow-screen-hidden\"><a href=\"/Rate/USD/IDR/12-17-2020\">USD IDR rate for 12/17/2020</a></td></tr>,\n",
       " <tr><td>12/16/2020</td><td>Wednesday</td><td><a href=\"/Rate/USD/IDR/12-16-2020\">14,084.50704</a> IDR</td><td class=\"text-narrow-screen-hidden\"><a href=\"/Rate/USD/IDR/12-16-2020\">USD IDR rate for 12/16/2020</a></td></tr>,\n",
       " <tr><td>12/15/2020</td><td>Tuesday</td><td><a href=\"/Rate/USD/IDR/12-15-2020\">14,124.19150</a> IDR</td><td class=\"text-narrow-screen-hidden\"><a href=\"/Rate/USD/IDR/12-15-2020\">USD IDR rate for 12/15/2020</a></td></tr>,\n",
       " <tr><td>12/14/2020</td><td>Monday</td><td><a href=\"/Rate/USD/IDR/12-14-2020\">14,087.17417</a> IDR</td><td class=\"text-narrow-screen-hidden\"><a href=\"/Rate/USD/IDR/12-14-2020\">USD IDR rate for 12/14/2020</a></td></tr>,\n",
       " <tr><td>12/11/2020</td><td>Friday</td><td><a href=\"/Rate/USD/IDR/12-11-2020\">14,076.36739</a> IDR</td><td class=\"text-narrow-screen-hidden\"><a href=\"/Rate/USD/IDR/12-11-2020\">USD IDR rate for 12/11/2020</a></td></tr>,\n",
       " <tr><td>12/10/2020</td><td>Thursday</td><td><a href=\"/Rate/USD/IDR/12-10-2020\">14,103.70444</a> IDR</td><td class=\"text-narrow-screen-hidden\"><a href=\"/Rate/USD/IDR/12-10-2020\">USD IDR rate for 12/10/2020</a></td></tr>,\n",
       " <tr><td>12/9/2020</td><td>Wednesday</td><td><a href=\"/Rate/USD/IDR/12-9-2020\">14,096.39851</a> IDR</td><td class=\"text-narrow-screen-hidden\"><a href=\"/Rate/USD/IDR/12-9-2020\">USD IDR rate for 12/9/2020</a></td></tr>,\n",
       " <tr><td>12/8/2020</td><td>Tuesday</td><td><a href=\"/Rate/USD/IDR/12-8-2020\">14,105.04229</a> IDR</td><td class=\"text-narrow-screen-hidden\"><a href=\"/Rate/USD/IDR/12-8-2020\">USD IDR rate for 12/8/2020</a></td></tr>,\n",
       " <tr><td>12/7/2020</td><td>Monday</td><td><a href=\"/Rate/USD/IDR/12-7-2020\">14,103.58039</a> IDR</td><td class=\"text-narrow-screen-hidden\"><a href=\"/Rate/USD/IDR/12-7-2020\">USD IDR rate for 12/7/2020</a></td></tr>,\n",
       " <tr><td>12/4/2020</td><td>Friday</td><td><a href=\"/Rate/USD/IDR/12-4-2020\">14,092.75807</a> IDR</td><td class=\"text-narrow-screen-hidden\"><a href=\"/Rate/USD/IDR/12-4-2020\">USD IDR rate for 12/4/2020</a></td></tr>,\n",
       " <tr><td>12/3/2020</td><td>Thursday</td><td><a href=\"/Rate/USD/IDR/12-3-2020\">14,109.15139</a> IDR</td><td class=\"text-narrow-screen-hidden\"><a href=\"/Rate/USD/IDR/12-3-2020\">USD IDR rate for 12/3/2020</a></td></tr>,\n",
       " <tr><td>12/2/2020</td><td>Wednesday</td><td><a href=\"/Rate/USD/IDR/12-2-2020\">14,094.65785</a> IDR</td><td class=\"text-narrow-screen-hidden\"><a href=\"/Rate/USD/IDR/12-2-2020\">USD IDR rate for 12/2/2020</a></td></tr>,\n",
       " <tr><td>12/1/2020</td><td>Tuesday</td><td><a href=\"/Rate/USD/IDR/12-1-2020\">14,118.51435</a> IDR</td><td class=\"text-narrow-screen-hidden\"><a href=\"/Rate/USD/IDR/12-1-2020\">USD IDR rate for 12/1/2020</a></td></tr>,\n",
       " <tr><td>11/30/2020</td><td>Monday</td><td><a href=\"/Rate/USD/IDR/11-30-2020\">14,114.11663</a> IDR</td><td class=\"text-narrow-screen-hidden\"><a href=\"/Rate/USD/IDR/11-30-2020\">USD IDR rate for 11/30/2020</a></td></tr>,\n",
       " <tr><td>11/27/2020</td><td>Friday</td><td><a href=\"/Rate/USD/IDR/11-27-2020\">14,078.12448</a> IDR</td><td class=\"text-narrow-screen-hidden\"><a href=\"/Rate/USD/IDR/11-27-2020\">USD IDR rate for 11/27/2020</a></td></tr>,\n",
       " <tr><td>11/26/2020</td><td>Thursday</td><td><a href=\"/Rate/USD/IDR/11-26-2020\">14,090.70769</a> IDR</td><td class=\"text-narrow-screen-hidden\"><a href=\"/Rate/USD/IDR/11-26-2020\">USD IDR rate for 11/26/2020</a></td></tr>,\n",
       " <tr><td>11/25/2020</td><td>Wednesday</td><td><a href=\"/Rate/USD/IDR/11-25-2020\">14,136.09929</a> IDR</td><td class=\"text-narrow-screen-hidden\"><a href=\"/Rate/USD/IDR/11-25-2020\">USD IDR rate for 11/25/2020</a></td></tr>,\n",
       " <tr><td>11/24/2020</td><td>Tuesday</td><td><a href=\"/Rate/USD/IDR/11-24-2020\">14,137.48161</a> IDR</td><td class=\"text-narrow-screen-hidden\"><a href=\"/Rate/USD/IDR/11-24-2020\">USD IDR rate for 11/24/2020</a></td></tr>,\n",
       " <tr><td>11/23/2020</td><td>Monday</td><td><a href=\"/Rate/USD/IDR/11-23-2020\">14,185.57119</a> IDR</td><td class=\"text-narrow-screen-hidden\"><a href=\"/Rate/USD/IDR/11-23-2020\">USD IDR rate for 11/23/2020</a></td></tr>,\n",
       " <tr><td>11/20/2020</td><td>Friday</td><td><a href=\"/Rate/USD/IDR/11-20-2020\">14,162.60519</a> IDR</td><td class=\"text-narrow-screen-hidden\"><a href=\"/Rate/USD/IDR/11-20-2020\">USD IDR rate for 11/20/2020</a></td></tr>,\n",
       " <tr><td>11/19/2020</td><td>Thursday</td><td><a href=\"/Rate/USD/IDR/11-19-2020\">14,165.50144</a> IDR</td><td class=\"text-narrow-screen-hidden\"><a href=\"/Rate/USD/IDR/11-19-2020\">USD IDR rate for 11/19/2020</a></td></tr>,\n",
       " <tr><td>11/18/2020</td><td>Wednesday</td><td><a href=\"/Rate/USD/IDR/11-18-2020\">14,051.29503</a> IDR</td><td class=\"text-narrow-screen-hidden\"><a href=\"/Rate/USD/IDR/11-18-2020\">USD IDR rate for 11/18/2020</a></td></tr>,\n",
       " <tr><td>11/17/2020</td><td>Tuesday</td><td><a href=\"/Rate/USD/IDR/11-17-2020\">14,040.16051</a> IDR</td><td class=\"text-narrow-screen-hidden\"><a href=\"/Rate/USD/IDR/11-17-2020\">USD IDR rate for 11/17/2020</a></td></tr>,\n",
       " <tr><td>11/16/2020</td><td>Monday</td><td><a href=\"/Rate/USD/IDR/11-16-2020\">14,085.69501</a> IDR</td><td class=\"text-narrow-screen-hidden\"><a href=\"/Rate/USD/IDR/11-16-2020\">USD IDR rate for 11/16/2020</a></td></tr>,\n",
       " <tr><td>11/13/2020</td><td>Friday</td><td><a href=\"/Rate/USD/IDR/11-13-2020\">14,142.77143</a> IDR</td><td class=\"text-narrow-screen-hidden\"><a href=\"/Rate/USD/IDR/11-13-2020\">USD IDR rate for 11/13/2020</a></td></tr>,\n",
       " <tr><td>11/12/2020</td><td>Thursday</td><td><a href=\"/Rate/USD/IDR/11-12-2020\">14,141.24303</a> IDR</td><td class=\"text-narrow-screen-hidden\"><a href=\"/Rate/USD/IDR/11-12-2020\">USD IDR rate for 11/12/2020</a></td></tr>,\n",
       " <tr><td>11/11/2020</td><td>Wednesday</td><td><a href=\"/Rate/USD/IDR/11-11-2020\">14,073.46024</a> IDR</td><td class=\"text-narrow-screen-hidden\"><a href=\"/Rate/USD/IDR/11-11-2020\">USD IDR rate for 11/11/2020</a></td></tr>,\n",
       " <tr><td>11/10/2020</td><td>Tuesday</td><td><a href=\"/Rate/USD/IDR/11-10-2020\">14,053.76135</a> IDR</td><td class=\"text-narrow-screen-hidden\"><a href=\"/Rate/USD/IDR/11-10-2020\">USD IDR rate for 11/10/2020</a></td></tr>,\n",
       " <tr><td>11/9/2020</td><td>Monday</td><td><a href=\"/Rate/USD/IDR/11-9-2020\">14,283.29667</a> IDR</td><td class=\"text-narrow-screen-hidden\"><a href=\"/Rate/USD/IDR/11-9-2020\">USD IDR rate for 11/9/2020</a></td></tr>,\n",
       " <tr><td>11/6/2020</td><td>Friday</td><td><a href=\"/Rate/USD/IDR/11-6-2020\">14,214.49744</a> IDR</td><td class=\"text-narrow-screen-hidden\"><a href=\"/Rate/USD/IDR/11-6-2020\">USD IDR rate for 11/6/2020</a></td></tr>,\n",
       " <tr><td>11/5/2020</td><td>Thursday</td><td><a href=\"/Rate/USD/IDR/11-5-2020\">14,389.14027</a> IDR</td><td class=\"text-narrow-screen-hidden\"><a href=\"/Rate/USD/IDR/11-5-2020\">USD IDR rate for 11/5/2020</a></td></tr>,\n",
       " <tr><td>11/4/2020</td><td>Wednesday</td><td><a href=\"/Rate/USD/IDR/11-4-2020\">14,544.44634</a> IDR</td><td class=\"text-narrow-screen-hidden\"><a href=\"/Rate/USD/IDR/11-4-2020\">USD IDR rate for 11/4/2020</a></td></tr>,\n",
       " <tr><td>11/3/2020</td><td>Tuesday</td><td><a href=\"/Rate/USD/IDR/11-3-2020\">14,589.01774</a> IDR</td><td class=\"text-narrow-screen-hidden\"><a href=\"/Rate/USD/IDR/11-3-2020\">USD IDR rate for 11/3/2020</a></td></tr>,\n",
       " <tr><td>11/2/2020</td><td>Monday</td><td><a href=\"/Rate/USD/IDR/11-2-2020\">14,612.89990</a> IDR</td><td class=\"text-narrow-screen-hidden\"><a href=\"/Rate/USD/IDR/11-2-2020\">USD IDR rate for 11/2/2020</a></td></tr>,\n",
       " <tr><td>10/30/2020</td><td>Friday</td><td><a href=\"/Rate/USD/IDR/10-30-2020\">14,629.16216</a> IDR</td><td class=\"text-narrow-screen-hidden\"><a href=\"/Rate/USD/IDR/10-30-2020\">USD IDR rate for 10/30/2020</a></td></tr>,\n",
       " <tr><td>10/29/2020</td><td>Thursday</td><td><a href=\"/Rate/USD/IDR/10-29-2020\">14,701.62361</a> IDR</td><td class=\"text-narrow-screen-hidden\"><a href=\"/Rate/USD/IDR/10-29-2020\">USD IDR rate for 10/29/2020</a></td></tr>,\n",
       " <tr><td>10/28/2020</td><td>Wednesday</td><td><a href=\"/Rate/USD/IDR/10-28-2020\">14,701.92586</a> IDR</td><td class=\"text-narrow-screen-hidden\"><a href=\"/Rate/USD/IDR/10-28-2020\">USD IDR rate for 10/28/2020</a></td></tr>,\n",
       " <tr><td>10/27/2020</td><td>Tuesday</td><td><a href=\"/Rate/USD/IDR/10-27-2020\">14,649.78960</a> IDR</td><td class=\"text-narrow-screen-hidden\"><a href=\"/Rate/USD/IDR/10-27-2020\">USD IDR rate for 10/27/2020</a></td></tr>,\n",
       " <tr><td>10/26/2020</td><td>Monday</td><td><a href=\"/Rate/USD/IDR/10-26-2020\">14,652.88010</a> IDR</td><td class=\"text-narrow-screen-hidden\"><a href=\"/Rate/USD/IDR/10-26-2020\">USD IDR rate for 10/26/2020</a></td></tr>,\n",
       " <tr><td>10/23/2020</td><td>Friday</td><td><a href=\"/Rate/USD/IDR/10-23-2020\">14,655.04157</a> IDR</td><td class=\"text-narrow-screen-hidden\"><a href=\"/Rate/USD/IDR/10-23-2020\">USD IDR rate for 10/23/2020</a></td></tr>,\n",
       " <tr><td>10/22/2020</td><td>Thursday</td><td><a href=\"/Rate/USD/IDR/10-22-2020\">14,647.90877</a> IDR</td><td class=\"text-narrow-screen-hidden\"><a href=\"/Rate/USD/IDR/10-22-2020\">USD IDR rate for 10/22/2020</a></td></tr>,\n",
       " <tr><td>10/21/2020</td><td>Wednesday</td><td><a href=\"/Rate/USD/IDR/10-21-2020\">14,641.61060</a> IDR</td><td class=\"text-narrow-screen-hidden\"><a href=\"/Rate/USD/IDR/10-21-2020\">USD IDR rate for 10/21/2020</a></td></tr>,\n",
       " <tr><td>10/20/2020</td><td>Tuesday</td><td><a href=\"/Rate/USD/IDR/10-20-2020\">14,555.88071</a> IDR</td><td class=\"text-narrow-screen-hidden\"><a href=\"/Rate/USD/IDR/10-20-2020\">USD IDR rate for 10/20/2020</a></td></tr>,\n",
       " <tr><td>10/19/2020</td><td>Monday</td><td><a href=\"/Rate/USD/IDR/10-19-2020\">14,705.13256</a> IDR</td><td class=\"text-narrow-screen-hidden\"><a href=\"/Rate/USD/IDR/10-19-2020\">USD IDR rate for 10/19/2020</a></td></tr>,\n",
       " <tr><td>10/16/2020</td><td>Friday</td><td><a href=\"/Rate/USD/IDR/10-16-2020\">14,688.43616</a> IDR</td><td class=\"text-narrow-screen-hidden\"><a href=\"/Rate/USD/IDR/10-16-2020\">USD IDR rate for 10/16/2020</a></td></tr>,\n",
       " <tr><td>10/15/2020</td><td>Thursday</td><td><a href=\"/Rate/USD/IDR/10-15-2020\">14,667.95340</a> IDR</td><td class=\"text-narrow-screen-hidden\"><a href=\"/Rate/USD/IDR/10-15-2020\">USD IDR rate for 10/15/2020</a></td></tr>,\n",
       " <tr><td>10/14/2020</td><td>Wednesday</td><td><a href=\"/Rate/USD/IDR/10-14-2020\">14,696.21912</a> IDR</td><td class=\"text-narrow-screen-hidden\"><a href=\"/Rate/USD/IDR/10-14-2020\">USD IDR rate for 10/14/2020</a></td></tr>,\n",
       " <tr><td>10/13/2020</td><td>Tuesday</td><td><a href=\"/Rate/USD/IDR/10-13-2020\">14,687.35100</a> IDR</td><td class=\"text-narrow-screen-hidden\"><a href=\"/Rate/USD/IDR/10-13-2020\">USD IDR rate for 10/13/2020</a></td></tr>,\n",
       " <tr><td>10/12/2020</td><td>Monday</td><td><a href=\"/Rate/USD/IDR/10-12-2020\">14,677.85296</a> IDR</td><td class=\"text-narrow-screen-hidden\"><a href=\"/Rate/USD/IDR/10-12-2020\">USD IDR rate for 10/12/2020</a></td></tr>,\n",
       " <tr><td>10/9/2020</td><td>Friday</td><td><a href=\"/Rate/USD/IDR/10-9-2020\">14,679.27910</a> IDR</td><td class=\"text-narrow-screen-hidden\"><a href=\"/Rate/USD/IDR/10-9-2020\">USD IDR rate for 10/9/2020</a></td></tr>,\n",
       " <tr><td>10/8/2020</td><td>Thursday</td><td><a href=\"/Rate/USD/IDR/10-8-2020\">14,692.93025</a> IDR</td><td class=\"text-narrow-screen-hidden\"><a href=\"/Rate/USD/IDR/10-8-2020\">USD IDR rate for 10/8/2020</a></td></tr>,\n",
       " <tr><td>10/7/2020</td><td>Wednesday</td><td><a href=\"/Rate/USD/IDR/10-7-2020\">14,705.58246</a> IDR</td><td class=\"text-narrow-screen-hidden\"><a href=\"/Rate/USD/IDR/10-7-2020\">USD IDR rate for 10/7/2020</a></td></tr>,\n",
       " <tr><td>10/6/2020</td><td>Tuesday</td><td><a href=\"/Rate/USD/IDR/10-6-2020\">14,857.67854</a> IDR</td><td class=\"text-narrow-screen-hidden\"><a href=\"/Rate/USD/IDR/10-6-2020\">USD IDR rate for 10/6/2020</a></td></tr>,\n",
       " <tr><td>10/5/2020</td><td>Monday</td><td><a href=\"/Rate/USD/IDR/10-5-2020\">14,797.90178</a> IDR</td><td class=\"text-narrow-screen-hidden\"><a href=\"/Rate/USD/IDR/10-5-2020\">USD IDR rate for 10/5/2020</a></td></tr>,\n",
       " <tr><td>10/2/2020</td><td>Friday</td><td><a href=\"/Rate/USD/IDR/10-2-2020\">14,852.30483</a> IDR</td><td class=\"text-narrow-screen-hidden\"><a href=\"/Rate/USD/IDR/10-2-2020\">USD IDR rate for 10/2/2020</a></td></tr>,\n",
       " <tr><td>10/1/2020</td><td>Thursday</td><td><a href=\"/Rate/USD/IDR/10-1-2020\">14,822.66605</a> IDR</td><td class=\"text-narrow-screen-hidden\"><a href=\"/Rate/USD/IDR/10-1-2020\">USD IDR rate for 10/1/2020</a></td></tr>,\n",
       " <tr><td>9/30/2020</td><td>Wednesday</td><td><a href=\"/Rate/USD/IDR/9-30-2020\">14,867.44686</a> IDR</td><td class=\"text-narrow-screen-hidden\"><a href=\"/Rate/USD/IDR/9-30-2020\">USD IDR rate for 9/30/2020</a></td></tr>,\n",
       " <tr><td>9/29/2020</td><td>Tuesday</td><td><a href=\"/Rate/USD/IDR/9-29-2020\">14,880.93210</a> IDR</td><td class=\"text-narrow-screen-hidden\"><a href=\"/Rate/USD/IDR/9-29-2020\">USD IDR rate for 9/29/2020</a></td></tr>,\n",
       " <tr><td>9/28/2020</td><td>Monday</td><td><a href=\"/Rate/USD/IDR/9-28-2020\">14,892.32194</a> IDR</td><td class=\"text-narrow-screen-hidden\"><a href=\"/Rate/USD/IDR/9-28-2020\">USD IDR rate for 9/28/2020</a></td></tr>,\n",
       " <tr><td>9/27/2020</td><td>Sunday</td><td><a href=\"/Rate/USD/IDR/9-27-2020\">14,859.98349</a> IDR</td><td class=\"text-narrow-screen-hidden\"><a href=\"/Rate/USD/IDR/9-27-2020\">USD IDR rate for 9/27/2020</a></td></tr>,\n",
       " <tr><td>9/25/2020</td><td>Friday</td><td><a href=\"/Rate/USD/IDR/9-25-2020\">14,855.63943</a> IDR</td><td class=\"text-narrow-screen-hidden\"><a href=\"/Rate/USD/IDR/9-25-2020\">USD IDR rate for 9/25/2020</a></td></tr>,\n",
       " <tr><td>9/24/2020</td><td>Thursday</td><td><a href=\"/Rate/USD/IDR/9-24-2020\">14,888.78607</a> IDR</td><td class=\"text-narrow-screen-hidden\"><a href=\"/Rate/USD/IDR/9-24-2020\">USD IDR rate for 9/24/2020</a></td></tr>,\n",
       " <tr><td>9/23/2020</td><td>Wednesday</td><td><a href=\"/Rate/USD/IDR/9-23-2020\">14,825.54899</a> IDR</td><td class=\"text-narrow-screen-hidden\"><a href=\"/Rate/USD/IDR/9-23-2020\">USD IDR rate for 9/23/2020</a></td></tr>,\n",
       " <tr><td>9/22/2020</td><td>Tuesday</td><td><a href=\"/Rate/USD/IDR/9-22-2020\">14,751.85786</a> IDR</td><td class=\"text-narrow-screen-hidden\"><a href=\"/Rate/USD/IDR/9-22-2020\">USD IDR rate for 9/22/2020</a></td></tr>,\n",
       " <tr><td>9/21/2020</td><td>Monday</td><td><a href=\"/Rate/USD/IDR/9-21-2020\">14,701.43420</a> IDR</td><td class=\"text-narrow-screen-hidden\"><a href=\"/Rate/USD/IDR/9-21-2020\">USD IDR rate for 9/21/2020</a></td></tr>,\n",
       " <tr><td>9/20/2020</td><td>Sunday</td><td><a href=\"/Rate/USD/IDR/9-20-2020\">14,728.84529</a> IDR</td><td class=\"text-narrow-screen-hidden\"><a href=\"/Rate/USD/IDR/9-20-2020\">USD IDR rate for 9/20/2020</a></td></tr>,\n",
       " <tr><td>9/18/2020</td><td>Friday</td><td><a href=\"/Rate/USD/IDR/9-18-2020\">14,730.71792</a> IDR</td><td class=\"text-narrow-screen-hidden\"><a href=\"/Rate/USD/IDR/9-18-2020\">USD IDR rate for 9/18/2020</a></td></tr>,\n",
       " <tr><td>9/17/2020</td><td>Thursday</td><td><a href=\"/Rate/USD/IDR/9-17-2020\">14,829.41738</a> IDR</td><td class=\"text-narrow-screen-hidden\"><a href=\"/Rate/USD/IDR/9-17-2020\">USD IDR rate for 9/17/2020</a></td></tr>,\n",
       " <tr><td>9/16/2020</td><td>Wednesday</td><td><a href=\"/Rate/USD/IDR/9-16-2020\">14,807.88761</a> IDR</td><td class=\"text-narrow-screen-hidden\"><a href=\"/Rate/USD/IDR/9-16-2020\">USD IDR rate for 9/16/2020</a></td></tr>,\n",
       " <tr><td>9/15/2020</td><td>Tuesday</td><td><a href=\"/Rate/USD/IDR/9-15-2020\">14,843.44670</a> IDR</td><td class=\"text-narrow-screen-hidden\"><a href=\"/Rate/USD/IDR/9-15-2020\">USD IDR rate for 9/15/2020</a></td></tr>,\n",
       " <tr><td>9/14/2020</td><td>Monday</td><td><a href=\"/Rate/USD/IDR/9-14-2020\">14,864.65988</a> IDR</td><td class=\"text-narrow-screen-hidden\"><a href=\"/Rate/USD/IDR/9-14-2020\">USD IDR rate for 9/14/2020</a></td></tr>,\n",
       " <tr><td>9/13/2020</td><td>Sunday</td><td><a href=\"/Rate/USD/IDR/9-13-2020\">14,876.45021</a> IDR</td><td class=\"text-narrow-screen-hidden\"><a href=\"/Rate/USD/IDR/9-13-2020\">USD IDR rate for 9/13/2020</a></td></tr>,\n",
       " <tr><td>9/11/2020</td><td>Friday</td><td><a href=\"/Rate/USD/IDR/9-11-2020\">14,865.27553</a> IDR</td><td class=\"text-narrow-screen-hidden\"><a href=\"/Rate/USD/IDR/9-11-2020\">USD IDR rate for 9/11/2020</a></td></tr>,\n",
       " <tr><td>9/10/2020</td><td>Thursday</td><td><a href=\"/Rate/USD/IDR/9-10-2020\">14,871.58664</a> IDR</td><td class=\"text-narrow-screen-hidden\"><a href=\"/Rate/USD/IDR/9-10-2020\">USD IDR rate for 9/10/2020</a></td></tr>,\n",
       " <tr><td>9/9/2020</td><td>Wednesday</td><td><a href=\"/Rate/USD/IDR/9-9-2020\">14,783.50009</a> IDR</td><td class=\"text-narrow-screen-hidden\"><a href=\"/Rate/USD/IDR/9-9-2020\">USD IDR rate for 9/9/2020</a></td></tr>,\n",
       " <tr><td>9/8/2020</td><td>Tuesday</td><td><a href=\"/Rate/USD/IDR/9-8-2020\">14,839.54267</a> IDR</td><td class=\"text-narrow-screen-hidden\"><a href=\"/Rate/USD/IDR/9-8-2020\">USD IDR rate for 9/8/2020</a></td></tr>,\n",
       " <tr><td>9/7/2020</td><td>Monday</td><td><a href=\"/Rate/USD/IDR/9-7-2020\">14,743.92989</a> IDR</td><td class=\"text-narrow-screen-hidden\"><a href=\"/Rate/USD/IDR/9-7-2020\">USD IDR rate for 9/7/2020</a></td></tr>,\n",
       " <tr><td>9/6/2020</td><td>Sunday</td><td><a href=\"/Rate/USD/IDR/9-6-2020\">14,754.95155</a> IDR</td><td class=\"text-narrow-screen-hidden\"><a href=\"/Rate/USD/IDR/9-6-2020\">USD IDR rate for 9/6/2020</a></td></tr>]"
      ]
     },
     "execution_count": 6,
     "metadata": {},
     "output_type": "execute_result"
    }
   ],
   "source": [
    "#Inspecting all the tablerow,tablebody,tablehead and cells that has been requested\n",
    "\n",
    "tr = table.find_all('tr')\n",
    "tr[0:135]\n",
    "\n",
    "#we found rows that need to be excluded, row number 13 and 37"
   ]
  },
  {
   "cell_type": "code",
   "execution_count": 7,
   "metadata": {
    "ExecuteTime": {
     "end_time": "2021-03-05T04:13:55.094759Z",
     "start_time": "2021-03-05T04:13:54.942859Z"
    }
   },
   "outputs": [
    {
     "data": {
      "text/plain": [
       "[('3/3/2021', 'Wednesday', '14,257.29443 IDR', 'USD IDR rate for 3/3/2021'),\n",
       " ('3/2/2021', 'Tuesday', '14,256.28041 IDR', 'USD IDR rate for 3/2/2021'),\n",
       " ('3/1/2021', 'Monday', '14,248.60576 IDR', 'USD IDR rate for 3/1/2021'),\n",
       " ('2/26/2021', 'Friday', '14,300.27815 IDR', 'USD IDR rate for 2/26/2021'),\n",
       " ('2/25/2021', 'Thursday', '14,139.73096 IDR', 'USD IDR rate for 2/25/2021'),\n",
       " ('2/24/2021', 'Wednesday', '14,083.03673 IDR', 'USD IDR rate for 2/24/2021'),\n",
       " ('2/23/2021', 'Tuesday', '14,092.64503 IDR', 'USD IDR rate for 2/23/2021'),\n",
       " ('2/22/2021', 'Monday', '14,118.07274 IDR', 'USD IDR rate for 2/22/2021'),\n",
       " ('2/19/2021', 'Friday', '14,066.79375 IDR', 'USD IDR rate for 2/19/2021'),\n",
       " ('2/18/2021', 'Thursday', '14,013.51318 IDR', 'USD IDR rate for 2/18/2021'),\n",
       " ('2/17/2021', 'Wednesday', '14,015.16095 IDR', 'USD IDR rate for 2/17/2021'),\n",
       " ('2/15/2021', 'Monday', '13,918.18725 IDR', 'USD IDR rate for 2/15/2021'),\n",
       " ('2/12/2021', 'Friday', '13,988.54710 IDR', 'USD IDR rate for 2/12/2021'),\n",
       " ('2/11/2021', 'Thursday', '13,982.27900 IDR', 'USD IDR rate for 2/11/2021'),\n",
       " ('2/10/2021', 'Wednesday', '13,994.09212 IDR', 'USD IDR rate for 2/10/2021'),\n",
       " ('2/9/2021', 'Tuesday', '13,920.52018 IDR', 'USD IDR rate for 2/9/2021'),\n",
       " ('2/8/2021', 'Monday', '14,007.25257 IDR', 'USD IDR rate for 2/8/2021'),\n",
       " ('2/5/2021', 'Friday', '14,008.99630 IDR', 'USD IDR rate for 2/5/2021'),\n",
       " ('2/4/2021', 'Thursday', '14,020.87878 IDR', 'USD IDR rate for 2/4/2021'),\n",
       " ('2/3/2021', 'Wednesday', '13,997.60682 IDR', 'USD IDR rate for 2/3/2021'),\n",
       " ('2/2/2021', 'Tuesday', '14,004.60175 IDR', 'USD IDR rate for 2/2/2021'),\n",
       " ('2/1/2021', 'Monday', '14,025.27450 IDR', 'USD IDR rate for 2/1/2021'),\n",
       " ('1/29/2021', 'Friday', '14,027.32457 IDR', 'USD IDR rate for 1/29/2021'),\n",
       " ('1/28/2021', 'Thursday', '14,048.06146 IDR', 'USD IDR rate for 1/28/2021'),\n",
       " ('1/27/2021', 'Wednesday', '14,048.72649 IDR', 'USD IDR rate for 1/27/2021'),\n",
       " ('1/26/2021', 'Tuesday', '14,062.91108 IDR', 'USD IDR rate for 1/26/2021'),\n",
       " ('1/25/2021', 'Monday', '14,021.11609 IDR', 'USD IDR rate for 1/25/2021'),\n",
       " ('1/22/2021', 'Friday', '14,025.60268 IDR', 'USD IDR rate for 1/22/2021'),\n",
       " ('1/21/2021', 'Thursday', '13,964.91920 IDR', 'USD IDR rate for 1/21/2021'),\n",
       " ('1/20/2021', 'Wednesday', '14,021.43046 IDR', 'USD IDR rate for 1/20/2021'),\n",
       " ('1/19/2021', 'Tuesday', '14,063.60877 IDR', 'USD IDR rate for 1/19/2021'),\n",
       " ('1/18/2021', 'Monday', '14,055.43768 IDR', 'USD IDR rate for 1/18/2021'),\n",
       " ('1/15/2021', 'Friday', '14,153.46654 IDR', 'USD IDR rate for 1/15/2021'),\n",
       " ('1/13/2021', 'Wednesday', '14,125.90174 IDR', 'USD IDR rate for 1/13/2021'),\n",
       " ('1/12/2021', 'Tuesday', '14,074.81444 IDR', 'USD IDR rate for 1/12/2021'),\n",
       " ('1/11/2021', 'Monday', '14,137.24151 IDR', 'USD IDR rate for 1/11/2021'),\n",
       " ('1/8/2021', 'Friday', '13,991.16348 IDR', 'USD IDR rate for 1/8/2021'),\n",
       " ('1/7/2021', 'Thursday', '13,905.64377 IDR', 'USD IDR rate for 1/7/2021'),\n",
       " ('1/6/2021', 'Wednesday', '13,861.51463 IDR', 'USD IDR rate for 1/6/2021'),\n",
       " ('1/5/2021', 'Tuesday', '13,906.05686 IDR', 'USD IDR rate for 1/5/2021'),\n",
       " ('1/4/2021', 'Monday', '14,015.86887 IDR', 'USD IDR rate for 1/4/2021'),\n",
       " ('1/1/2021', 'Friday', '14,213.67526 IDR', 'USD IDR rate for 1/1/2021'),\n",
       " ('12/31/2020', 'Thursday', '14,120.57461 IDR', 'USD IDR rate for 12/31/2020'),\n",
       " ('12/30/2020',\n",
       "  'Wednesday',\n",
       "  '14,020.01350 IDR',\n",
       "  'USD IDR rate for 12/30/2020'),\n",
       " ('12/29/2020', 'Tuesday', '14,108.18177 IDR', 'USD IDR rate for 12/29/2020'),\n",
       " ('12/28/2020', 'Monday', '14,139.81753 IDR', 'USD IDR rate for 12/28/2020'),\n",
       " ('12/25/2020', 'Friday', '14,211.65343 IDR', 'USD IDR rate for 12/25/2020'),\n",
       " ('12/24/2020', 'Thursday', '14,188.41293 IDR', 'USD IDR rate for 12/24/2020'),\n",
       " ('12/23/2020',\n",
       "  'Wednesday',\n",
       "  '14,183.64082 IDR',\n",
       "  'USD IDR rate for 12/23/2020'),\n",
       " ('12/22/2020', 'Tuesday', '14,164.98134 IDR', 'USD IDR rate for 12/22/2020'),\n",
       " ('12/21/2020', 'Monday', '14,124.20148 IDR', 'USD IDR rate for 12/21/2020'),\n",
       " ('12/18/2020', 'Friday', '14,101.05758 IDR', 'USD IDR rate for 12/18/2020'),\n",
       " ('12/17/2020', 'Thursday', '14,101.72807 IDR', 'USD IDR rate for 12/17/2020'),\n",
       " ('12/16/2020',\n",
       "  'Wednesday',\n",
       "  '14,084.50704 IDR',\n",
       "  'USD IDR rate for 12/16/2020'),\n",
       " ('12/15/2020', 'Tuesday', '14,124.19150 IDR', 'USD IDR rate for 12/15/2020'),\n",
       " ('12/14/2020', 'Monday', '14,087.17417 IDR', 'USD IDR rate for 12/14/2020'),\n",
       " ('12/11/2020', 'Friday', '14,076.36739 IDR', 'USD IDR rate for 12/11/2020'),\n",
       " ('12/10/2020', 'Thursday', '14,103.70444 IDR', 'USD IDR rate for 12/10/2020'),\n",
       " ('12/9/2020', 'Wednesday', '14,096.39851 IDR', 'USD IDR rate for 12/9/2020'),\n",
       " ('12/8/2020', 'Tuesday', '14,105.04229 IDR', 'USD IDR rate for 12/8/2020'),\n",
       " ('12/7/2020', 'Monday', '14,103.58039 IDR', 'USD IDR rate for 12/7/2020'),\n",
       " ('12/4/2020', 'Friday', '14,092.75807 IDR', 'USD IDR rate for 12/4/2020'),\n",
       " ('12/3/2020', 'Thursday', '14,109.15139 IDR', 'USD IDR rate for 12/3/2020'),\n",
       " ('12/2/2020', 'Wednesday', '14,094.65785 IDR', 'USD IDR rate for 12/2/2020'),\n",
       " ('12/1/2020', 'Tuesday', '14,118.51435 IDR', 'USD IDR rate for 12/1/2020'),\n",
       " ('11/30/2020', 'Monday', '14,114.11663 IDR', 'USD IDR rate for 11/30/2020'),\n",
       " ('11/27/2020', 'Friday', '14,078.12448 IDR', 'USD IDR rate for 11/27/2020'),\n",
       " ('11/26/2020', 'Thursday', '14,090.70769 IDR', 'USD IDR rate for 11/26/2020'),\n",
       " ('11/25/2020',\n",
       "  'Wednesday',\n",
       "  '14,136.09929 IDR',\n",
       "  'USD IDR rate for 11/25/2020'),\n",
       " ('11/24/2020', 'Tuesday', '14,137.48161 IDR', 'USD IDR rate for 11/24/2020'),\n",
       " ('11/23/2020', 'Monday', '14,185.57119 IDR', 'USD IDR rate for 11/23/2020'),\n",
       " ('11/20/2020', 'Friday', '14,162.60519 IDR', 'USD IDR rate for 11/20/2020'),\n",
       " ('11/19/2020', 'Thursday', '14,165.50144 IDR', 'USD IDR rate for 11/19/2020'),\n",
       " ('11/18/2020',\n",
       "  'Wednesday',\n",
       "  '14,051.29503 IDR',\n",
       "  'USD IDR rate for 11/18/2020'),\n",
       " ('11/17/2020', 'Tuesday', '14,040.16051 IDR', 'USD IDR rate for 11/17/2020'),\n",
       " ('11/16/2020', 'Monday', '14,085.69501 IDR', 'USD IDR rate for 11/16/2020'),\n",
       " ('11/13/2020', 'Friday', '14,142.77143 IDR', 'USD IDR rate for 11/13/2020'),\n",
       " ('11/12/2020', 'Thursday', '14,141.24303 IDR', 'USD IDR rate for 11/12/2020'),\n",
       " ('11/11/2020',\n",
       "  'Wednesday',\n",
       "  '14,073.46024 IDR',\n",
       "  'USD IDR rate for 11/11/2020'),\n",
       " ('11/10/2020', 'Tuesday', '14,053.76135 IDR', 'USD IDR rate for 11/10/2020'),\n",
       " ('11/9/2020', 'Monday', '14,283.29667 IDR', 'USD IDR rate for 11/9/2020'),\n",
       " ('11/6/2020', 'Friday', '14,214.49744 IDR', 'USD IDR rate for 11/6/2020'),\n",
       " ('11/5/2020', 'Thursday', '14,389.14027 IDR', 'USD IDR rate for 11/5/2020'),\n",
       " ('11/4/2020', 'Wednesday', '14,544.44634 IDR', 'USD IDR rate for 11/4/2020'),\n",
       " ('11/3/2020', 'Tuesday', '14,589.01774 IDR', 'USD IDR rate for 11/3/2020'),\n",
       " ('11/2/2020', 'Monday', '14,612.89990 IDR', 'USD IDR rate for 11/2/2020'),\n",
       " ('10/30/2020', 'Friday', '14,629.16216 IDR', 'USD IDR rate for 10/30/2020'),\n",
       " ('10/29/2020', 'Thursday', '14,701.62361 IDR', 'USD IDR rate for 10/29/2020'),\n",
       " ('10/28/2020',\n",
       "  'Wednesday',\n",
       "  '14,701.92586 IDR',\n",
       "  'USD IDR rate for 10/28/2020'),\n",
       " ('10/27/2020', 'Tuesday', '14,649.78960 IDR', 'USD IDR rate for 10/27/2020'),\n",
       " ('10/26/2020', 'Monday', '14,652.88010 IDR', 'USD IDR rate for 10/26/2020'),\n",
       " ('10/23/2020', 'Friday', '14,655.04157 IDR', 'USD IDR rate for 10/23/2020'),\n",
       " ('10/22/2020', 'Thursday', '14,647.90877 IDR', 'USD IDR rate for 10/22/2020'),\n",
       " ('10/21/2020',\n",
       "  'Wednesday',\n",
       "  '14,641.61060 IDR',\n",
       "  'USD IDR rate for 10/21/2020'),\n",
       " ('10/20/2020', 'Tuesday', '14,555.88071 IDR', 'USD IDR rate for 10/20/2020'),\n",
       " ('10/19/2020', 'Monday', '14,705.13256 IDR', 'USD IDR rate for 10/19/2020'),\n",
       " ('10/16/2020', 'Friday', '14,688.43616 IDR', 'USD IDR rate for 10/16/2020'),\n",
       " ('10/15/2020', 'Thursday', '14,667.95340 IDR', 'USD IDR rate for 10/15/2020'),\n",
       " ('10/14/2020',\n",
       "  'Wednesday',\n",
       "  '14,696.21912 IDR',\n",
       "  'USD IDR rate for 10/14/2020'),\n",
       " ('10/13/2020', 'Tuesday', '14,687.35100 IDR', 'USD IDR rate for 10/13/2020'),\n",
       " ('10/12/2020', 'Monday', '14,677.85296 IDR', 'USD IDR rate for 10/12/2020'),\n",
       " ('10/9/2020', 'Friday', '14,679.27910 IDR', 'USD IDR rate for 10/9/2020'),\n",
       " ('10/8/2020', 'Thursday', '14,692.93025 IDR', 'USD IDR rate for 10/8/2020'),\n",
       " ('10/7/2020', 'Wednesday', '14,705.58246 IDR', 'USD IDR rate for 10/7/2020'),\n",
       " ('10/6/2020', 'Tuesday', '14,857.67854 IDR', 'USD IDR rate for 10/6/2020'),\n",
       " ('10/5/2020', 'Monday', '14,797.90178 IDR', 'USD IDR rate for 10/5/2020'),\n",
       " ('10/2/2020', 'Friday', '14,852.30483 IDR', 'USD IDR rate for 10/2/2020'),\n",
       " ('10/1/2020', 'Thursday', '14,822.66605 IDR', 'USD IDR rate for 10/1/2020'),\n",
       " ('9/30/2020', 'Wednesday', '14,867.44686 IDR', 'USD IDR rate for 9/30/2020'),\n",
       " ('9/29/2020', 'Tuesday', '14,880.93210 IDR', 'USD IDR rate for 9/29/2020'),\n",
       " ('9/28/2020', 'Monday', '14,892.32194 IDR', 'USD IDR rate for 9/28/2020'),\n",
       " ('9/27/2020', 'Sunday', '14,859.98349 IDR', 'USD IDR rate for 9/27/2020'),\n",
       " ('9/25/2020', 'Friday', '14,855.63943 IDR', 'USD IDR rate for 9/25/2020'),\n",
       " ('9/24/2020', 'Thursday', '14,888.78607 IDR', 'USD IDR rate for 9/24/2020'),\n",
       " ('9/23/2020', 'Wednesday', '14,825.54899 IDR', 'USD IDR rate for 9/23/2020'),\n",
       " ('9/22/2020', 'Tuesday', '14,751.85786 IDR', 'USD IDR rate for 9/22/2020'),\n",
       " ('9/21/2020', 'Monday', '14,701.43420 IDR', 'USD IDR rate for 9/21/2020'),\n",
       " ('9/20/2020', 'Sunday', '14,728.84529 IDR', 'USD IDR rate for 9/20/2020'),\n",
       " ('9/18/2020', 'Friday', '14,730.71792 IDR', 'USD IDR rate for 9/18/2020'),\n",
       " ('9/17/2020', 'Thursday', '14,829.41738 IDR', 'USD IDR rate for 9/17/2020'),\n",
       " ('9/16/2020', 'Wednesday', '14,807.88761 IDR', 'USD IDR rate for 9/16/2020'),\n",
       " ('9/15/2020', 'Tuesday', '14,843.44670 IDR', 'USD IDR rate for 9/15/2020'),\n",
       " ('9/14/2020', 'Monday', '14,864.65988 IDR', 'USD IDR rate for 9/14/2020'),\n",
       " ('9/13/2020', 'Sunday', '14,876.45021 IDR', 'USD IDR rate for 9/13/2020'),\n",
       " ('9/11/2020', 'Friday', '14,865.27553 IDR', 'USD IDR rate for 9/11/2020'),\n",
       " ('9/10/2020', 'Thursday', '14,871.58664 IDR', 'USD IDR rate for 9/10/2020'),\n",
       " ('9/9/2020', 'Wednesday', '14,783.50009 IDR', 'USD IDR rate for 9/9/2020'),\n",
       " ('9/8/2020', 'Tuesday', '14,839.54267 IDR', 'USD IDR rate for 9/8/2020'),\n",
       " ('9/7/2020', 'Monday', '14,743.92989 IDR', 'USD IDR rate for 9/7/2020'),\n",
       " ('9/6/2020', 'Sunday', '14,754.95155 IDR', 'USD IDR rate for 9/6/2020')]"
      ]
     },
     "execution_count": 7,
     "metadata": {},
     "output_type": "execute_result"
    }
   ],
   "source": [
    "#Data scrapping starts from here:\n",
    "#1.create the column identity\n",
    "#2.exclude the invalid rows (row 13 and 37)\n",
    "#3.sort the data in timely manner\n",
    "\n",
    "temp = [] #initiating a tuple f\n",
    "\n",
    "for i in range(1,12):\n",
    "    row = table.find_all('tr')[i]\n",
    "\n",
    "    #get date\n",
    "    date = row.find_all('td')[0].text\n",
    "    date = date.strip()\n",
    "    \n",
    "    #get weekday \n",
    "    weekday = row.find_all('td')[1].text\n",
    "    weekday = weekday.strip()\n",
    "    \n",
    "    #get IDRtoUSD \n",
    "    IDRtoUSD = row.find_all('td')[2].text\n",
    "    IDRtoUSD = IDRtoUSD.strip()\n",
    "    \n",
    "    #get remarks\n",
    "    remarks = row.find_all('td')[3].text\n",
    "    remarks = remarks.strip()\n",
    "               \n",
    "    temp.append((date,weekday,IDRtoUSD,remarks))\n",
    "    \n",
    "for i in range(14,36):\n",
    "    row = table.find_all('tr')[i]\n",
    "\n",
    "    #get date\n",
    "    date = row.find_all('td')[0].text\n",
    "    date = date.strip()\n",
    "    \n",
    "    #get weekday \n",
    "    weekday = row.find_all('td')[1].text\n",
    "    weekday = weekday.strip()\n",
    "    \n",
    "    #get IDRtoUSD \n",
    "    IDRtoUSD = row.find_all('td')[2].text\n",
    "    IDRtoUSD = IDRtoUSD.strip()\n",
    "    \n",
    "    #get remarks\n",
    "    remarks = row.find_all('td')[3].text\n",
    "    remarks = remarks.strip()\n",
    "               \n",
    "    temp.append((date,weekday,IDRtoUSD,remarks))\n",
    "    \n",
    "for i in range(38,len(tr)):\n",
    "    row = table.find_all('tr')[i]\n",
    "\n",
    "    #get date\n",
    "    date = row.find_all('td')[0].text\n",
    "    date = date.strip()\n",
    "    \n",
    "    #get weekday \n",
    "    weekday = row.find_all('td')[1].text\n",
    "    weekday = weekday.strip()\n",
    "    \n",
    "    #get IDRtoUSD \n",
    "    IDRtoUSD = row.find_all('td')[2].text\n",
    "    IDRtoUSD = IDRtoUSD.strip()\n",
    "    \n",
    "    #get remarks\n",
    "    remarks = row.find_all('td')[3].text\n",
    "    remarks = remarks.strip()\n",
    "    \n",
    "    temp.append((date,weekday,IDRtoUSD,remarks))\n",
    "    \n",
    "temp "
   ]
  },
  {
   "cell_type": "code",
   "execution_count": 8,
   "metadata": {
    "ExecuteTime": {
     "end_time": "2021-03-05T04:13:55.110734Z",
     "start_time": "2021-03-05T04:13:55.094759Z"
    }
   },
   "outputs": [
    {
     "data": {
      "text/plain": [
       "135"
      ]
     },
     "execution_count": 8,
     "metadata": {},
     "output_type": "execute_result"
    }
   ],
   "source": [
    "len(tr)"
   ]
  },
  {
   "cell_type": "code",
   "execution_count": 9,
   "metadata": {
    "ExecuteTime": {
     "end_time": "2021-03-05T04:13:55.142698Z",
     "start_time": "2021-03-05T04:13:55.110734Z"
    }
   },
   "outputs": [
    {
     "data": {
      "text/plain": [
       "[('9/6/2020', 'Sunday', '14,754.95155 IDR', 'USD IDR rate for 9/6/2020'),\n",
       " ('9/7/2020', 'Monday', '14,743.92989 IDR', 'USD IDR rate for 9/7/2020'),\n",
       " ('9/8/2020', 'Tuesday', '14,839.54267 IDR', 'USD IDR rate for 9/8/2020'),\n",
       " ('9/9/2020', 'Wednesday', '14,783.50009 IDR', 'USD IDR rate for 9/9/2020'),\n",
       " ('9/10/2020', 'Thursday', '14,871.58664 IDR', 'USD IDR rate for 9/10/2020'),\n",
       " ('9/11/2020', 'Friday', '14,865.27553 IDR', 'USD IDR rate for 9/11/2020'),\n",
       " ('9/13/2020', 'Sunday', '14,876.45021 IDR', 'USD IDR rate for 9/13/2020'),\n",
       " ('9/14/2020', 'Monday', '14,864.65988 IDR', 'USD IDR rate for 9/14/2020'),\n",
       " ('9/15/2020', 'Tuesday', '14,843.44670 IDR', 'USD IDR rate for 9/15/2020'),\n",
       " ('9/16/2020', 'Wednesday', '14,807.88761 IDR', 'USD IDR rate for 9/16/2020'),\n",
       " ('9/17/2020', 'Thursday', '14,829.41738 IDR', 'USD IDR rate for 9/17/2020'),\n",
       " ('9/18/2020', 'Friday', '14,730.71792 IDR', 'USD IDR rate for 9/18/2020'),\n",
       " ('9/20/2020', 'Sunday', '14,728.84529 IDR', 'USD IDR rate for 9/20/2020'),\n",
       " ('9/21/2020', 'Monday', '14,701.43420 IDR', 'USD IDR rate for 9/21/2020'),\n",
       " ('9/22/2020', 'Tuesday', '14,751.85786 IDR', 'USD IDR rate for 9/22/2020'),\n",
       " ('9/23/2020', 'Wednesday', '14,825.54899 IDR', 'USD IDR rate for 9/23/2020'),\n",
       " ('9/24/2020', 'Thursday', '14,888.78607 IDR', 'USD IDR rate for 9/24/2020'),\n",
       " ('9/25/2020', 'Friday', '14,855.63943 IDR', 'USD IDR rate for 9/25/2020'),\n",
       " ('9/27/2020', 'Sunday', '14,859.98349 IDR', 'USD IDR rate for 9/27/2020'),\n",
       " ('9/28/2020', 'Monday', '14,892.32194 IDR', 'USD IDR rate for 9/28/2020'),\n",
       " ('9/29/2020', 'Tuesday', '14,880.93210 IDR', 'USD IDR rate for 9/29/2020'),\n",
       " ('9/30/2020', 'Wednesday', '14,867.44686 IDR', 'USD IDR rate for 9/30/2020'),\n",
       " ('10/1/2020', 'Thursday', '14,822.66605 IDR', 'USD IDR rate for 10/1/2020'),\n",
       " ('10/2/2020', 'Friday', '14,852.30483 IDR', 'USD IDR rate for 10/2/2020'),\n",
       " ('10/5/2020', 'Monday', '14,797.90178 IDR', 'USD IDR rate for 10/5/2020'),\n",
       " ('10/6/2020', 'Tuesday', '14,857.67854 IDR', 'USD IDR rate for 10/6/2020'),\n",
       " ('10/7/2020', 'Wednesday', '14,705.58246 IDR', 'USD IDR rate for 10/7/2020'),\n",
       " ('10/8/2020', 'Thursday', '14,692.93025 IDR', 'USD IDR rate for 10/8/2020'),\n",
       " ('10/9/2020', 'Friday', '14,679.27910 IDR', 'USD IDR rate for 10/9/2020'),\n",
       " ('10/12/2020', 'Monday', '14,677.85296 IDR', 'USD IDR rate for 10/12/2020'),\n",
       " ('10/13/2020', 'Tuesday', '14,687.35100 IDR', 'USD IDR rate for 10/13/2020'),\n",
       " ('10/14/2020',\n",
       "  'Wednesday',\n",
       "  '14,696.21912 IDR',\n",
       "  'USD IDR rate for 10/14/2020'),\n",
       " ('10/15/2020', 'Thursday', '14,667.95340 IDR', 'USD IDR rate for 10/15/2020'),\n",
       " ('10/16/2020', 'Friday', '14,688.43616 IDR', 'USD IDR rate for 10/16/2020'),\n",
       " ('10/19/2020', 'Monday', '14,705.13256 IDR', 'USD IDR rate for 10/19/2020'),\n",
       " ('10/20/2020', 'Tuesday', '14,555.88071 IDR', 'USD IDR rate for 10/20/2020'),\n",
       " ('10/21/2020',\n",
       "  'Wednesday',\n",
       "  '14,641.61060 IDR',\n",
       "  'USD IDR rate for 10/21/2020'),\n",
       " ('10/22/2020', 'Thursday', '14,647.90877 IDR', 'USD IDR rate for 10/22/2020'),\n",
       " ('10/23/2020', 'Friday', '14,655.04157 IDR', 'USD IDR rate for 10/23/2020'),\n",
       " ('10/26/2020', 'Monday', '14,652.88010 IDR', 'USD IDR rate for 10/26/2020'),\n",
       " ('10/27/2020', 'Tuesday', '14,649.78960 IDR', 'USD IDR rate for 10/27/2020'),\n",
       " ('10/28/2020',\n",
       "  'Wednesday',\n",
       "  '14,701.92586 IDR',\n",
       "  'USD IDR rate for 10/28/2020'),\n",
       " ('10/29/2020', 'Thursday', '14,701.62361 IDR', 'USD IDR rate for 10/29/2020'),\n",
       " ('10/30/2020', 'Friday', '14,629.16216 IDR', 'USD IDR rate for 10/30/2020'),\n",
       " ('11/2/2020', 'Monday', '14,612.89990 IDR', 'USD IDR rate for 11/2/2020'),\n",
       " ('11/3/2020', 'Tuesday', '14,589.01774 IDR', 'USD IDR rate for 11/3/2020'),\n",
       " ('11/4/2020', 'Wednesday', '14,544.44634 IDR', 'USD IDR rate for 11/4/2020'),\n",
       " ('11/5/2020', 'Thursday', '14,389.14027 IDR', 'USD IDR rate for 11/5/2020'),\n",
       " ('11/6/2020', 'Friday', '14,214.49744 IDR', 'USD IDR rate for 11/6/2020'),\n",
       " ('11/9/2020', 'Monday', '14,283.29667 IDR', 'USD IDR rate for 11/9/2020'),\n",
       " ('11/10/2020', 'Tuesday', '14,053.76135 IDR', 'USD IDR rate for 11/10/2020'),\n",
       " ('11/11/2020',\n",
       "  'Wednesday',\n",
       "  '14,073.46024 IDR',\n",
       "  'USD IDR rate for 11/11/2020'),\n",
       " ('11/12/2020', 'Thursday', '14,141.24303 IDR', 'USD IDR rate for 11/12/2020'),\n",
       " ('11/13/2020', 'Friday', '14,142.77143 IDR', 'USD IDR rate for 11/13/2020'),\n",
       " ('11/16/2020', 'Monday', '14,085.69501 IDR', 'USD IDR rate for 11/16/2020'),\n",
       " ('11/17/2020', 'Tuesday', '14,040.16051 IDR', 'USD IDR rate for 11/17/2020'),\n",
       " ('11/18/2020',\n",
       "  'Wednesday',\n",
       "  '14,051.29503 IDR',\n",
       "  'USD IDR rate for 11/18/2020'),\n",
       " ('11/19/2020', 'Thursday', '14,165.50144 IDR', 'USD IDR rate for 11/19/2020'),\n",
       " ('11/20/2020', 'Friday', '14,162.60519 IDR', 'USD IDR rate for 11/20/2020'),\n",
       " ('11/23/2020', 'Monday', '14,185.57119 IDR', 'USD IDR rate for 11/23/2020'),\n",
       " ('11/24/2020', 'Tuesday', '14,137.48161 IDR', 'USD IDR rate for 11/24/2020'),\n",
       " ('11/25/2020',\n",
       "  'Wednesday',\n",
       "  '14,136.09929 IDR',\n",
       "  'USD IDR rate for 11/25/2020'),\n",
       " ('11/26/2020', 'Thursday', '14,090.70769 IDR', 'USD IDR rate for 11/26/2020'),\n",
       " ('11/27/2020', 'Friday', '14,078.12448 IDR', 'USD IDR rate for 11/27/2020'),\n",
       " ('11/30/2020', 'Monday', '14,114.11663 IDR', 'USD IDR rate for 11/30/2020'),\n",
       " ('12/1/2020', 'Tuesday', '14,118.51435 IDR', 'USD IDR rate for 12/1/2020'),\n",
       " ('12/2/2020', 'Wednesday', '14,094.65785 IDR', 'USD IDR rate for 12/2/2020'),\n",
       " ('12/3/2020', 'Thursday', '14,109.15139 IDR', 'USD IDR rate for 12/3/2020'),\n",
       " ('12/4/2020', 'Friday', '14,092.75807 IDR', 'USD IDR rate for 12/4/2020'),\n",
       " ('12/7/2020', 'Monday', '14,103.58039 IDR', 'USD IDR rate for 12/7/2020'),\n",
       " ('12/8/2020', 'Tuesday', '14,105.04229 IDR', 'USD IDR rate for 12/8/2020'),\n",
       " ('12/9/2020', 'Wednesday', '14,096.39851 IDR', 'USD IDR rate for 12/9/2020'),\n",
       " ('12/10/2020', 'Thursday', '14,103.70444 IDR', 'USD IDR rate for 12/10/2020'),\n",
       " ('12/11/2020', 'Friday', '14,076.36739 IDR', 'USD IDR rate for 12/11/2020'),\n",
       " ('12/14/2020', 'Monday', '14,087.17417 IDR', 'USD IDR rate for 12/14/2020'),\n",
       " ('12/15/2020', 'Tuesday', '14,124.19150 IDR', 'USD IDR rate for 12/15/2020'),\n",
       " ('12/16/2020',\n",
       "  'Wednesday',\n",
       "  '14,084.50704 IDR',\n",
       "  'USD IDR rate for 12/16/2020'),\n",
       " ('12/17/2020', 'Thursday', '14,101.72807 IDR', 'USD IDR rate for 12/17/2020'),\n",
       " ('12/18/2020', 'Friday', '14,101.05758 IDR', 'USD IDR rate for 12/18/2020'),\n",
       " ('12/21/2020', 'Monday', '14,124.20148 IDR', 'USD IDR rate for 12/21/2020'),\n",
       " ('12/22/2020', 'Tuesday', '14,164.98134 IDR', 'USD IDR rate for 12/22/2020'),\n",
       " ('12/23/2020',\n",
       "  'Wednesday',\n",
       "  '14,183.64082 IDR',\n",
       "  'USD IDR rate for 12/23/2020'),\n",
       " ('12/24/2020', 'Thursday', '14,188.41293 IDR', 'USD IDR rate for 12/24/2020'),\n",
       " ('12/25/2020', 'Friday', '14,211.65343 IDR', 'USD IDR rate for 12/25/2020'),\n",
       " ('12/28/2020', 'Monday', '14,139.81753 IDR', 'USD IDR rate for 12/28/2020'),\n",
       " ('12/29/2020', 'Tuesday', '14,108.18177 IDR', 'USD IDR rate for 12/29/2020'),\n",
       " ('12/30/2020',\n",
       "  'Wednesday',\n",
       "  '14,020.01350 IDR',\n",
       "  'USD IDR rate for 12/30/2020'),\n",
       " ('12/31/2020', 'Thursday', '14,120.57461 IDR', 'USD IDR rate for 12/31/2020'),\n",
       " ('1/1/2021', 'Friday', '14,213.67526 IDR', 'USD IDR rate for 1/1/2021'),\n",
       " ('1/4/2021', 'Monday', '14,015.86887 IDR', 'USD IDR rate for 1/4/2021'),\n",
       " ('1/5/2021', 'Tuesday', '13,906.05686 IDR', 'USD IDR rate for 1/5/2021'),\n",
       " ('1/6/2021', 'Wednesday', '13,861.51463 IDR', 'USD IDR rate for 1/6/2021'),\n",
       " ('1/7/2021', 'Thursday', '13,905.64377 IDR', 'USD IDR rate for 1/7/2021'),\n",
       " ('1/8/2021', 'Friday', '13,991.16348 IDR', 'USD IDR rate for 1/8/2021'),\n",
       " ('1/11/2021', 'Monday', '14,137.24151 IDR', 'USD IDR rate for 1/11/2021'),\n",
       " ('1/12/2021', 'Tuesday', '14,074.81444 IDR', 'USD IDR rate for 1/12/2021'),\n",
       " ('1/13/2021', 'Wednesday', '14,125.90174 IDR', 'USD IDR rate for 1/13/2021'),\n",
       " ('1/15/2021', 'Friday', '14,153.46654 IDR', 'USD IDR rate for 1/15/2021'),\n",
       " ('1/18/2021', 'Monday', '14,055.43768 IDR', 'USD IDR rate for 1/18/2021'),\n",
       " ('1/19/2021', 'Tuesday', '14,063.60877 IDR', 'USD IDR rate for 1/19/2021'),\n",
       " ('1/20/2021', 'Wednesday', '14,021.43046 IDR', 'USD IDR rate for 1/20/2021'),\n",
       " ('1/21/2021', 'Thursday', '13,964.91920 IDR', 'USD IDR rate for 1/21/2021'),\n",
       " ('1/22/2021', 'Friday', '14,025.60268 IDR', 'USD IDR rate for 1/22/2021'),\n",
       " ('1/25/2021', 'Monday', '14,021.11609 IDR', 'USD IDR rate for 1/25/2021'),\n",
       " ('1/26/2021', 'Tuesday', '14,062.91108 IDR', 'USD IDR rate for 1/26/2021'),\n",
       " ('1/27/2021', 'Wednesday', '14,048.72649 IDR', 'USD IDR rate for 1/27/2021'),\n",
       " ('1/28/2021', 'Thursday', '14,048.06146 IDR', 'USD IDR rate for 1/28/2021'),\n",
       " ('1/29/2021', 'Friday', '14,027.32457 IDR', 'USD IDR rate for 1/29/2021'),\n",
       " ('2/1/2021', 'Monday', '14,025.27450 IDR', 'USD IDR rate for 2/1/2021'),\n",
       " ('2/2/2021', 'Tuesday', '14,004.60175 IDR', 'USD IDR rate for 2/2/2021'),\n",
       " ('2/3/2021', 'Wednesday', '13,997.60682 IDR', 'USD IDR rate for 2/3/2021'),\n",
       " ('2/4/2021', 'Thursday', '14,020.87878 IDR', 'USD IDR rate for 2/4/2021'),\n",
       " ('2/5/2021', 'Friday', '14,008.99630 IDR', 'USD IDR rate for 2/5/2021'),\n",
       " ('2/8/2021', 'Monday', '14,007.25257 IDR', 'USD IDR rate for 2/8/2021'),\n",
       " ('2/9/2021', 'Tuesday', '13,920.52018 IDR', 'USD IDR rate for 2/9/2021'),\n",
       " ('2/10/2021', 'Wednesday', '13,994.09212 IDR', 'USD IDR rate for 2/10/2021'),\n",
       " ('2/11/2021', 'Thursday', '13,982.27900 IDR', 'USD IDR rate for 2/11/2021'),\n",
       " ('2/12/2021', 'Friday', '13,988.54710 IDR', 'USD IDR rate for 2/12/2021'),\n",
       " ('2/15/2021', 'Monday', '13,918.18725 IDR', 'USD IDR rate for 2/15/2021'),\n",
       " ('2/17/2021', 'Wednesday', '14,015.16095 IDR', 'USD IDR rate for 2/17/2021'),\n",
       " ('2/18/2021', 'Thursday', '14,013.51318 IDR', 'USD IDR rate for 2/18/2021'),\n",
       " ('2/19/2021', 'Friday', '14,066.79375 IDR', 'USD IDR rate for 2/19/2021'),\n",
       " ('2/22/2021', 'Monday', '14,118.07274 IDR', 'USD IDR rate for 2/22/2021'),\n",
       " ('2/23/2021', 'Tuesday', '14,092.64503 IDR', 'USD IDR rate for 2/23/2021'),\n",
       " ('2/24/2021', 'Wednesday', '14,083.03673 IDR', 'USD IDR rate for 2/24/2021'),\n",
       " ('2/25/2021', 'Thursday', '14,139.73096 IDR', 'USD IDR rate for 2/25/2021'),\n",
       " ('2/26/2021', 'Friday', '14,300.27815 IDR', 'USD IDR rate for 2/26/2021'),\n",
       " ('3/1/2021', 'Monday', '14,248.60576 IDR', 'USD IDR rate for 3/1/2021'),\n",
       " ('3/2/2021', 'Tuesday', '14,256.28041 IDR', 'USD IDR rate for 3/2/2021'),\n",
       " ('3/3/2021', 'Wednesday', '14,257.29443 IDR', 'USD IDR rate for 3/3/2021')]"
      ]
     },
     "execution_count": 9,
     "metadata": {},
     "output_type": "execute_result"
    }
   ],
   "source": [
    "#reverse the data in timely manner\n",
    "temp = temp[::-1]\n",
    "temp"
   ]
  },
  {
   "cell_type": "markdown",
   "metadata": {},
   "source": [
    "## Creating data frame & Data wrangling"
   ]
  },
  {
   "cell_type": "code",
   "execution_count": 10,
   "metadata": {
    "ExecuteTime": {
     "end_time": "2021-03-05T04:13:56.109785Z",
     "start_time": "2021-03-05T04:13:55.150721Z"
    },
    "scrolled": true
   },
   "outputs": [
    {
     "data": {
      "text/html": [
       "<div>\n",
       "<style scoped>\n",
       "    .dataframe tbody tr th:only-of-type {\n",
       "        vertical-align: middle;\n",
       "    }\n",
       "\n",
       "    .dataframe tbody tr th {\n",
       "        vertical-align: top;\n",
       "    }\n",
       "\n",
       "    .dataframe thead th {\n",
       "        text-align: right;\n",
       "    }\n",
       "</style>\n",
       "<table border=\"1\" class=\"dataframe\">\n",
       "  <thead>\n",
       "    <tr style=\"text-align: right;\">\n",
       "      <th></th>\n",
       "      <th>date</th>\n",
       "      <th>weekday</th>\n",
       "      <th>IDRtoUSD</th>\n",
       "      <th>remarks</th>\n",
       "    </tr>\n",
       "  </thead>\n",
       "  <tbody>\n",
       "    <tr>\n",
       "      <th>0</th>\n",
       "      <td>9/6/2020</td>\n",
       "      <td>Sunday</td>\n",
       "      <td>14,754.95155 IDR</td>\n",
       "      <td>USD IDR rate for 9/6/2020</td>\n",
       "    </tr>\n",
       "    <tr>\n",
       "      <th>1</th>\n",
       "      <td>9/7/2020</td>\n",
       "      <td>Monday</td>\n",
       "      <td>14,743.92989 IDR</td>\n",
       "      <td>USD IDR rate for 9/7/2020</td>\n",
       "    </tr>\n",
       "    <tr>\n",
       "      <th>2</th>\n",
       "      <td>9/8/2020</td>\n",
       "      <td>Tuesday</td>\n",
       "      <td>14,839.54267 IDR</td>\n",
       "      <td>USD IDR rate for 9/8/2020</td>\n",
       "    </tr>\n",
       "    <tr>\n",
       "      <th>3</th>\n",
       "      <td>9/9/2020</td>\n",
       "      <td>Wednesday</td>\n",
       "      <td>14,783.50009 IDR</td>\n",
       "      <td>USD IDR rate for 9/9/2020</td>\n",
       "    </tr>\n",
       "    <tr>\n",
       "      <th>4</th>\n",
       "      <td>9/10/2020</td>\n",
       "      <td>Thursday</td>\n",
       "      <td>14,871.58664 IDR</td>\n",
       "      <td>USD IDR rate for 9/10/2020</td>\n",
       "    </tr>\n",
       "  </tbody>\n",
       "</table>\n",
       "</div>"
      ],
      "text/plain": [
       "        date    weekday          IDRtoUSD                     remarks\n",
       "0   9/6/2020     Sunday  14,754.95155 IDR   USD IDR rate for 9/6/2020\n",
       "1   9/7/2020     Monday  14,743.92989 IDR   USD IDR rate for 9/7/2020\n",
       "2   9/8/2020    Tuesday  14,839.54267 IDR   USD IDR rate for 9/8/2020\n",
       "3   9/9/2020  Wednesday  14,783.50009 IDR   USD IDR rate for 9/9/2020\n",
       "4  9/10/2020   Thursday  14,871.58664 IDR  USD IDR rate for 9/10/2020"
      ]
     },
     "execution_count": 10,
     "metadata": {},
     "output_type": "execute_result"
    }
   ],
   "source": [
    "#Put the array into dataframe\n",
    "\n",
    "import pandas as pd\n",
    "\n",
    "df = pd.DataFrame(temp,columns = ('date','weekday','IDRtoUSD','remarks'))\n",
    "df.head()\n",
    "\n"
   ]
  },
  {
   "cell_type": "code",
   "execution_count": 35,
   "metadata": {
    "ExecuteTime": {
     "end_time": "2021-03-05T08:17:56.391889Z",
     "start_time": "2021-03-05T08:17:56.370946Z"
    }
   },
   "outputs": [
    {
     "data": {
      "text/html": [
       "<div>\n",
       "<style scoped>\n",
       "    .dataframe tbody tr th:only-of-type {\n",
       "        vertical-align: middle;\n",
       "    }\n",
       "\n",
       "    .dataframe tbody tr th {\n",
       "        vertical-align: top;\n",
       "    }\n",
       "\n",
       "    .dataframe thead th {\n",
       "        text-align: right;\n",
       "    }\n",
       "</style>\n",
       "<table border=\"1\" class=\"dataframe\">\n",
       "  <thead>\n",
       "    <tr style=\"text-align: right;\">\n",
       "      <th></th>\n",
       "      <th>date</th>\n",
       "      <th>weekday</th>\n",
       "      <th>IDRtoUSD</th>\n",
       "      <th>remarks</th>\n",
       "    </tr>\n",
       "  </thead>\n",
       "  <tbody>\n",
       "    <tr>\n",
       "      <th>0</th>\n",
       "      <td>2020-09-06</td>\n",
       "      <td>Sunday</td>\n",
       "      <td>14754.95155</td>\n",
       "      <td>USD IDR rate for 9/6/2020</td>\n",
       "    </tr>\n",
       "    <tr>\n",
       "      <th>1</th>\n",
       "      <td>2020-09-07</td>\n",
       "      <td>Monday</td>\n",
       "      <td>14743.92989</td>\n",
       "      <td>USD IDR rate for 9/7/2020</td>\n",
       "    </tr>\n",
       "    <tr>\n",
       "      <th>2</th>\n",
       "      <td>2020-09-08</td>\n",
       "      <td>Tuesday</td>\n",
       "      <td>14839.54267</td>\n",
       "      <td>USD IDR rate for 9/8/2020</td>\n",
       "    </tr>\n",
       "    <tr>\n",
       "      <th>3</th>\n",
       "      <td>2020-09-09</td>\n",
       "      <td>Wednesday</td>\n",
       "      <td>14783.50009</td>\n",
       "      <td>USD IDR rate for 9/9/2020</td>\n",
       "    </tr>\n",
       "    <tr>\n",
       "      <th>4</th>\n",
       "      <td>2020-09-10</td>\n",
       "      <td>Thursday</td>\n",
       "      <td>14871.58664</td>\n",
       "      <td>USD IDR rate for 9/10/2020</td>\n",
       "    </tr>\n",
       "    <tr>\n",
       "      <th>...</th>\n",
       "      <td>...</td>\n",
       "      <td>...</td>\n",
       "      <td>...</td>\n",
       "      <td>...</td>\n",
       "    </tr>\n",
       "    <tr>\n",
       "      <th>125</th>\n",
       "      <td>2021-02-25</td>\n",
       "      <td>Thursday</td>\n",
       "      <td>14139.73096</td>\n",
       "      <td>USD IDR rate for 2/25/2021</td>\n",
       "    </tr>\n",
       "    <tr>\n",
       "      <th>126</th>\n",
       "      <td>2021-02-26</td>\n",
       "      <td>Friday</td>\n",
       "      <td>14300.27815</td>\n",
       "      <td>USD IDR rate for 2/26/2021</td>\n",
       "    </tr>\n",
       "    <tr>\n",
       "      <th>127</th>\n",
       "      <td>2021-03-01</td>\n",
       "      <td>Monday</td>\n",
       "      <td>14248.60576</td>\n",
       "      <td>USD IDR rate for 3/1/2021</td>\n",
       "    </tr>\n",
       "    <tr>\n",
       "      <th>128</th>\n",
       "      <td>2021-03-02</td>\n",
       "      <td>Tuesday</td>\n",
       "      <td>14256.28041</td>\n",
       "      <td>USD IDR rate for 3/2/2021</td>\n",
       "    </tr>\n",
       "    <tr>\n",
       "      <th>129</th>\n",
       "      <td>2021-03-03</td>\n",
       "      <td>Wednesday</td>\n",
       "      <td>14257.29443</td>\n",
       "      <td>USD IDR rate for 3/3/2021</td>\n",
       "    </tr>\n",
       "  </tbody>\n",
       "</table>\n",
       "<p>130 rows × 4 columns</p>\n",
       "</div>"
      ],
      "text/plain": [
       "          date    weekday     IDRtoUSD                     remarks\n",
       "0   2020-09-06     Sunday  14754.95155   USD IDR rate for 9/6/2020\n",
       "1   2020-09-07     Monday  14743.92989   USD IDR rate for 9/7/2020\n",
       "2   2020-09-08    Tuesday  14839.54267   USD IDR rate for 9/8/2020\n",
       "3   2020-09-09  Wednesday  14783.50009   USD IDR rate for 9/9/2020\n",
       "4   2020-09-10   Thursday  14871.58664  USD IDR rate for 9/10/2020\n",
       "..         ...        ...          ...                         ...\n",
       "125 2021-02-25   Thursday  14139.73096  USD IDR rate for 2/25/2021\n",
       "126 2021-02-26     Friday  14300.27815  USD IDR rate for 2/26/2021\n",
       "127 2021-03-01     Monday  14248.60576   USD IDR rate for 3/1/2021\n",
       "128 2021-03-02    Tuesday  14256.28041   USD IDR rate for 3/2/2021\n",
       "129 2021-03-03  Wednesday  14257.29443   USD IDR rate for 3/3/2021\n",
       "\n",
       "[130 rows x 4 columns]"
      ]
     },
     "execution_count": 35,
     "metadata": {},
     "output_type": "execute_result"
    }
   ],
   "source": [
    "#cleaning process\n",
    "\n",
    "#clean the IDRtoUSD, replace the \",\" and \"IDR\" and change it to float data type\n",
    "df['IDRtoUSD']=df['IDRtoUSD'].replace(\",\",\"\",regex=True).replace(\"IDR\",\"\",regex=True)\n",
    "df['IDRtoUSD']=df['IDRtoUSD'].astype('float64')\n",
    "\n",
    "#change date data type from object to datetime data type\n",
    "df['date']=df['date'].astype('datetime64')\n",
    "\n",
    "#change weekday data type from object to categorical data type\n",
    "df['weekday']=df['weekday'].astype('category')\n",
    "\n",
    "df"
   ]
  },
  {
   "cell_type": "markdown",
   "metadata": {},
   "source": [
    "### Implementing your webscrapping to the flask dashboard\n",
    "\n",
    "- Copy paste all of your web scrapping process to the desired position on the `app.py`\n",
    "- Changing the title of the dasboard at `index.html`"
   ]
  },
  {
   "cell_type": "markdown",
   "metadata": {},
   "source": [
    "## Analysis and Conclusion\n",
    "\n",
    "First you can do start with making the data visualisation. "
   ]
  },
  {
   "cell_type": "code",
   "execution_count": 31,
   "metadata": {
    "ExecuteTime": {
     "end_time": "2021-03-05T05:11:08.016488Z",
     "start_time": "2021-03-05T05:11:07.999544Z"
    }
   },
   "outputs": [
    {
     "data": {
      "text/html": [
       "<div>\n",
       "<style scoped>\n",
       "    .dataframe tbody tr th:only-of-type {\n",
       "        vertical-align: middle;\n",
       "    }\n",
       "\n",
       "    .dataframe tbody tr th {\n",
       "        vertical-align: top;\n",
       "    }\n",
       "\n",
       "    .dataframe thead th {\n",
       "        text-align: right;\n",
       "    }\n",
       "</style>\n",
       "<table border=\"1\" class=\"dataframe\">\n",
       "  <thead>\n",
       "    <tr style=\"text-align: right;\">\n",
       "      <th></th>\n",
       "      <th>IDRtoUSD</th>\n",
       "    </tr>\n",
       "    <tr>\n",
       "      <th>date</th>\n",
       "      <th></th>\n",
       "    </tr>\n",
       "  </thead>\n",
       "  <tbody>\n",
       "    <tr>\n",
       "      <th>2020-09-06</th>\n",
       "      <td>14754.95155</td>\n",
       "    </tr>\n",
       "    <tr>\n",
       "      <th>2020-09-07</th>\n",
       "      <td>14743.92989</td>\n",
       "    </tr>\n",
       "    <tr>\n",
       "      <th>2020-09-08</th>\n",
       "      <td>14839.54267</td>\n",
       "    </tr>\n",
       "    <tr>\n",
       "      <th>2020-09-09</th>\n",
       "      <td>14783.50009</td>\n",
       "    </tr>\n",
       "    <tr>\n",
       "      <th>2020-09-10</th>\n",
       "      <td>14871.58664</td>\n",
       "    </tr>\n",
       "    <tr>\n",
       "      <th>...</th>\n",
       "      <td>...</td>\n",
       "    </tr>\n",
       "    <tr>\n",
       "      <th>2021-02-25</th>\n",
       "      <td>14139.73096</td>\n",
       "    </tr>\n",
       "    <tr>\n",
       "      <th>2021-02-26</th>\n",
       "      <td>14300.27815</td>\n",
       "    </tr>\n",
       "    <tr>\n",
       "      <th>2021-03-01</th>\n",
       "      <td>14248.60576</td>\n",
       "    </tr>\n",
       "    <tr>\n",
       "      <th>2021-03-02</th>\n",
       "      <td>14256.28041</td>\n",
       "    </tr>\n",
       "    <tr>\n",
       "      <th>2021-03-03</th>\n",
       "      <td>14257.29443</td>\n",
       "    </tr>\n",
       "  </tbody>\n",
       "</table>\n",
       "<p>130 rows × 1 columns</p>\n",
       "</div>"
      ],
      "text/plain": [
       "               IDRtoUSD\n",
       "date                   \n",
       "2020-09-06  14754.95155\n",
       "2020-09-07  14743.92989\n",
       "2020-09-08  14839.54267\n",
       "2020-09-09  14783.50009\n",
       "2020-09-10  14871.58664\n",
       "...                 ...\n",
       "2021-02-25  14139.73096\n",
       "2021-02-26  14300.27815\n",
       "2021-03-01  14248.60576\n",
       "2021-03-02  14256.28041\n",
       "2021-03-03  14257.29443\n",
       "\n",
       "[130 rows x 1 columns]"
      ]
     },
     "execution_count": 31,
     "metadata": {},
     "output_type": "execute_result"
    }
   ],
   "source": [
    "#subset to get new dataframe with only date and IDRtoUSD column\n",
    "exchange = df.loc[:,['date','IDRtoUSD']].set_index('date')\n",
    "exchange"
   ]
  },
  {
   "cell_type": "code",
   "execution_count": 32,
   "metadata": {
    "ExecuteTime": {
     "end_time": "2021-03-05T05:11:17.503071Z",
     "start_time": "2021-03-05T05:11:17.362172Z"
    }
   },
   "outputs": [
    {
     "data": {
      "text/plain": [
       "<AxesSubplot:title={'center':'Grafik Kurs IDR terhadap USD'}, xlabel='Periode', ylabel='Nilai IDR'>"
      ]
     },
     "execution_count": 32,
     "metadata": {},
     "output_type": "execute_result"
    },
    {
     "data": {
      "image/png": "[encoded data removed]",
      "text/plain": [
       "<Figure size 432x288 with 1 Axes>"
      ]
     },
     "metadata": {
      "needs_background": "light"
     },
     "output_type": "display_data"
    }
   ],
   "source": [
    "#visualisasi grafik pertama\n",
    "\n",
    "exchange.plot(xlabel='Periode',ylabel='Nilai IDR',title='Grafik Kurs IDR terhadap USD')"
   ]
  },
  {
   "cell_type": "code",
   "execution_count": 150,
   "metadata": {
    "ExecuteTime": {
     "end_time": "2021-03-04T18:17:25.756221Z",
     "start_time": "2021-03-04T18:17:25.746631Z"
    }
   },
   "outputs": [],
   "source": [
    "# Analysis dengan grafik kurs IDR terhadap USD di grafik pertama untuk melihat trend nya:\n",
    "\n",
    "# 1. Nilai IDR terhadap USD dipengaruhi oleh banyak faktor baik itu faktor internal maupun eksternal.\n",
    "\n",
    "# 2. Nilai IDR terhadap USD pada rentang waktu 2020-09 hingga pertengahan 2021-03 terlihat dari grafik mengalami penurunan\n",
    "#    yang signifikan. Ini artinya nilai IDR mengalami penguatan terhadap USD.\n",
    "\n",
    "# 3. Dari grafik terlihat Nilai IDR terhadap USD mengalami kenaikan dimulai dari bulan 2021-02. Ini artinya nilai IDR mengalami penguatan terhadap USD\n",
    "\n"
   ]
  },
  {
   "cell_type": "code",
   "execution_count": 45,
   "metadata": {
    "ExecuteTime": {
     "end_time": "2021-03-05T11:21:18.356247Z",
     "start_time": "2021-03-05T11:21:18.115205Z"
    },
    "scrolled": false
   },
   "outputs": [
    {
     "data": {
      "text/plain": [
       "<AxesSubplot:title={'center':'Grafik Kurs IDR terhadap USD'}, xlabel='Periode', ylabel='Nilai IDR'>"
      ]
     },
     "execution_count": 45,
     "metadata": {},
     "output_type": "execute_result"
    },
    {
     "data": {
      "image/png": "[encoded data removed]",
      "text/plain": [
       "<Figure size 432x288 with 1 Axes>"
      ]
     },
     "metadata": {
      "needs_background": "light"
     },
     "output_type": "display_data"
    }
   ],
   "source": [
    "#visualisasi grafik ke dua\n",
    "\n",
    "daytransaction = df.loc[:,['weekday','IDRtoUSD']]\n",
    "wday = [\"Monday\", \"Tuesday\", \"Wednesday\", \"Thursday\", \"Friday\",\"Sunday\"]\n",
    "daytransaction_plot = daytransaction.groupby('weekday').mean('IDRtoUSD')\n",
    "daytransaction_plot = daytransaction_plot.reindex(wday)\n",
    "daytransaction_plot.plot.bar(xlabel='Periode',ylabel='Nilai IDR',title='Grafik Kurs IDR terhadap USD',ylim=(14100,15000))"
   ]
  },
  {
   "cell_type": "code",
   "execution_count": null,
   "metadata": {},
   "outputs": [],
   "source": [
    "# Analysis dengan grafik kurs IDR terhadap USD di grafik pertama untuk melihat trend nya:\n",
    "\n",
    "#1. Dari grafik kedua terlihat kenaikan signifikan IDR terhadap USD terjadi rata-rata di hari Sunday. \n",
    "#   Artinya ada perlemahan signifikan nilai IDR terhadap USD di hari Sunday"
   ]
  },
  {
   "cell_type": "markdown",
   "metadata": {},
   "source": [
    "### Extra Challange\n",
    "\n",
    "This will be not included to the scoring. \n",
    "\n",
    "- You can create additional analysis from the data.\n",
    "- Implement it to the dashboard with at `app.py` dan `index.html`."
   ]
  }
 ],
 "metadata": {
  "kernelspec": {
   "display_name": "data-analytics",
   "language": "python",
   "name": "data-analytics"
  },
  "language_info": {
   "codemirror_mode": {
    "name": "ipython",
    "version": 3
   },
   "file_extension": ".py",
   "mimetype": "text/x-python",
   "name": "python",
   "nbconvert_exporter": "python",
   "pygments_lexer": "ipython3",
   "version": "3.8.5"
  },
  "toc": {
   "base_numbering": 1,
   "nav_menu": {},
   "number_sections": true,
   "sideBar": true,
   "skip_h1_title": false,
   "title_cell": "Table of Contents",
   "title_sidebar": "Contents",
   "toc_cell": false,
   "toc_position": {},
   "toc_section_display": true,
   "toc_window_display": false
  }
 },
 "nbformat": 4,
 "nbformat_minor": 2
}
